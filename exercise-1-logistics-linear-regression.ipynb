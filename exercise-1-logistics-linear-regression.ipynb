{
 "cells": [
  {
   "cell_type": "markdown",
   "id": "35dab86c",
   "metadata": {
    "papermill": {
     "duration": 0.008264,
     "end_time": "2025-10-16T13:58:24.460233",
     "exception": false,
     "start_time": "2025-10-16T13:58:24.451969",
     "status": "completed"
    },
    "tags": []
   },
   "source": [
    "## Exercise 1: Regression task \n",
    "\n"
   ]
  },
  {
   "cell_type": "markdown",
   "id": "25ac6cb0",
   "metadata": {
    "papermill": {
     "duration": 0.00626,
     "end_time": "2025-10-16T13:58:24.473413",
     "exception": false,
     "start_time": "2025-10-16T13:58:24.467153",
     "status": "completed"
    },
    "tags": []
   },
   "source": [
    "The dataset that i selected is all about car prices. I have prioritzed linear regression in this dataset. This dataset contains information about several vehicles, which includes to make model, year of manufacture, mileage, engine size, fuel types, transmission and other features, with the objetcive of estimating each others car's market price. \n"
   ]
  },
  {
   "cell_type": "markdown",
   "id": "567811c3",
   "metadata": {
    "papermill": {
     "duration": 0.006097,
     "end_time": "2025-10-16T13:58:24.486394",
     "exception": false,
     "start_time": "2025-10-16T13:58:24.480297",
     "status": "completed"
    },
    "tags": []
   },
   "source": [
    "### Importing libraries"
   ]
  },
  {
   "cell_type": "markdown",
   "id": "2cc73d20",
   "metadata": {
    "papermill": {
     "duration": 0.006424,
     "end_time": "2025-10-16T13:58:24.499095",
     "exception": false,
     "start_time": "2025-10-16T13:58:24.492671",
     "status": "completed"
    },
    "tags": []
   },
   "source": [
    "So I have imported Pandas, sklearn a model selection to train, test, and split the data to easily train modern predicting the car prices.\n",
    "the train_test_split allows to divide the dataset into training and testing to set the model of evaluation. \n",
    "METRICS, This also allows to evaluate the model peroformance to measure predictions accuracy of the car prices and brands. \n"
   ]
  },
  {
   "cell_type": "code",
   "execution_count": 1,
   "id": "f487a358",
   "metadata": {
    "execution": {
     "iopub.execute_input": "2025-10-16T13:58:24.513264Z",
     "iopub.status.busy": "2025-10-16T13:58:24.512881Z",
     "iopub.status.idle": "2025-10-16T13:58:28.227315Z",
     "shell.execute_reply": "2025-10-16T13:58:28.226231Z"
    },
    "papermill": {
     "duration": 3.723947,
     "end_time": "2025-10-16T13:58:28.229315",
     "exception": false,
     "start_time": "2025-10-16T13:58:24.505368",
     "status": "completed"
    },
    "tags": []
   },
   "outputs": [],
   "source": [
    "import pandas as pd \n",
    "from sklearn.model_selection import train_test_split \n",
    "from sklearn.linear_model import LinearRegression \n",
    "from sklearn.preprocessing import StandardScaler \n",
    "from sklearn.metrics import accuracy_score, classification_report, confusion_matrix\n",
    "from sklearn.metrics import mean_squared_error, r2_score\n",
    "\n"
   ]
  },
  {
   "cell_type": "markdown",
   "id": "629803d4",
   "metadata": {
    "papermill": {
     "duration": 0.007189,
     "end_time": "2025-10-16T13:58:28.243277",
     "exception": false,
     "start_time": "2025-10-16T13:58:28.236088",
     "status": "completed"
    },
    "tags": []
   },
   "source": [
    "## Loading the data."
   ]
  },
  {
   "cell_type": "markdown",
   "id": "c2e529ae",
   "metadata": {
    "papermill": {
     "duration": 0.006679,
     "end_time": "2025-10-16T13:58:28.256985",
     "exception": false,
     "start_time": "2025-10-16T13:58:28.250306",
     "status": "completed"
    },
    "tags": []
   },
   "source": [
    "I have loaded the data about car prices. I imported the car price dataset into Python and modeling. As based on the analysis, This dataset is usually in CSV format includes some information about numerous cars, namely as the model or brand of the cars, manufactures, milage, engine size, fuel type, gearbox type, and the goal variable which is the car price itself. "
   ]
  },
  {
   "cell_type": "code",
   "execution_count": 2,
   "id": "9c2d0dd5",
   "metadata": {
    "execution": {
     "iopub.execute_input": "2025-10-16T13:58:28.273163Z",
     "iopub.status.busy": "2025-10-16T13:58:28.272682Z",
     "iopub.status.idle": "2025-10-16T13:58:28.297848Z",
     "shell.execute_reply": "2025-10-16T13:58:28.296871Z"
    },
    "papermill": {
     "duration": 0.034949,
     "end_time": "2025-10-16T13:58:28.299811",
     "exception": false,
     "start_time": "2025-10-16T13:58:28.264862",
     "status": "completed"
    },
    "tags": []
   },
   "outputs": [],
   "source": [
    "data = pd.read_csv(\"/kaggle/input/car-prices-proj/CarPricesPrediction.csv\")"
   ]
  },
  {
   "cell_type": "markdown",
   "id": "fe59ad96",
   "metadata": {
    "papermill": {
     "duration": 0.006367,
     "end_time": "2025-10-16T13:58:28.312796",
     "exception": false,
     "start_time": "2025-10-16T13:58:28.306429",
     "status": "completed"
    },
    "tags": []
   },
   "source": [
    "## Vieweing the first rows amd columns "
   ]
  },
  {
   "cell_type": "markdown",
   "id": "1eaf6c67",
   "metadata": {
    "papermill": {
     "duration": 0.006283,
     "end_time": "2025-10-16T13:58:28.326021",
     "exception": false,
     "start_time": "2025-10-16T13:58:28.319738",
     "status": "completed"
    },
    "tags": []
   },
   "source": [
    "The next step, I have to print the rows and columns by printing the data head, the dataset preview, and the column of the dataset. \n",
    "\n",
    "And as I ran the program, the output displays the preview, of the rows and columns. The dataset preview displayed the brands, the models, Milage, condition, and price. And the column of the dataset displays the index and lists of variables. "
   ]
  },
  {
   "cell_type": "code",
   "execution_count": 3,
   "id": "e06bbfdd",
   "metadata": {
    "execution": {
     "iopub.execute_input": "2025-10-16T13:58:28.340816Z",
     "iopub.status.busy": "2025-10-16T13:58:28.339703Z",
     "iopub.status.idle": "2025-10-16T13:58:28.358689Z",
     "shell.execute_reply": "2025-10-16T13:58:28.357651Z"
    },
    "papermill": {
     "duration": 0.027894,
     "end_time": "2025-10-16T13:58:28.360319",
     "exception": false,
     "start_time": "2025-10-16T13:58:28.332425",
     "status": "completed"
    },
    "tags": []
   },
   "outputs": [
    {
     "name": "stdout",
     "output_type": "stream",
     "text": [
      "Dataset preview:\n",
      "    Unnamed: 0       Make      Model  Year  Mileage  Condition     Price\n",
      "0           0       Ford  Silverado  2022    18107  Excellent  19094.75\n",
      "1           1     Toyota  Silverado  2014    13578  Excellent  27321.10\n",
      "2           2  Chevrolet      Civic  2016    46054       Good  23697.30\n",
      "3           3       Ford      Civic  2022    34981  Excellent  18251.05\n",
      "4           4  Chevrolet      Civic  2019    63565  Excellent  19821.85 \n",
      "\n",
      "Colimn in dataset\n",
      " Index(['Unnamed: 0', 'Make', 'Model', 'Year', 'Mileage', 'Condition', 'Price'], dtype='object') \n",
      "\n"
     ]
    }
   ],
   "source": [
    "print(\"Dataset preview:\\n\", data.head(), \"\\n\")\n",
    "print(\"Colimn in dataset\\n\", data.columns, \"\\n\")\n"
   ]
  },
  {
   "cell_type": "markdown",
   "id": "6e8e7f68",
   "metadata": {
    "papermill": {
     "duration": 0.006426,
     "end_time": "2025-10-16T13:58:28.373472",
     "exception": false,
     "start_time": "2025-10-16T13:58:28.367046",
     "status": "completed"
    },
    "tags": []
   },
   "source": [
    "### Data inspection"
   ]
  },
  {
   "cell_type": "markdown",
   "id": "d14416fa",
   "metadata": {
    "papermill": {
     "duration": 0.006356,
     "end_time": "2025-10-16T13:58:28.386435",
     "exception": false,
     "start_time": "2025-10-16T13:58:28.380079",
     "status": "completed"
    },
    "tags": []
   },
   "source": [
    "This dataset performs initial data inspection. So called as the namely tabular data. df.head() or data.head() is displayed to view the first rows to check the missing values. The data.info() allows to check the data types and missing values and data.describe() displays the summary statistics. "
   ]
  },
  {
   "cell_type": "code",
   "execution_count": 4,
   "id": "e570f8c6",
   "metadata": {
    "execution": {
     "iopub.execute_input": "2025-10-16T13:58:28.400838Z",
     "iopub.status.busy": "2025-10-16T13:58:28.400511Z",
     "iopub.status.idle": "2025-10-16T13:58:28.419441Z",
     "shell.execute_reply": "2025-10-16T13:58:28.418473Z"
    },
    "papermill": {
     "duration": 0.027922,
     "end_time": "2025-10-16T13:58:28.420978",
     "exception": false,
     "start_time": "2025-10-16T13:58:28.393056",
     "status": "completed"
    },
    "tags": []
   },
   "outputs": [
    {
     "data": {
      "text/html": [
       "<div>\n",
       "<style scoped>\n",
       "    .dataframe tbody tr th:only-of-type {\n",
       "        vertical-align: middle;\n",
       "    }\n",
       "\n",
       "    .dataframe tbody tr th {\n",
       "        vertical-align: top;\n",
       "    }\n",
       "\n",
       "    .dataframe thead th {\n",
       "        text-align: right;\n",
       "    }\n",
       "</style>\n",
       "<table border=\"1\" class=\"dataframe\">\n",
       "  <thead>\n",
       "    <tr style=\"text-align: right;\">\n",
       "      <th></th>\n",
       "      <th>Unnamed: 0</th>\n",
       "      <th>Make</th>\n",
       "      <th>Model</th>\n",
       "      <th>Year</th>\n",
       "      <th>Mileage</th>\n",
       "      <th>Condition</th>\n",
       "      <th>Price</th>\n",
       "    </tr>\n",
       "  </thead>\n",
       "  <tbody>\n",
       "    <tr>\n",
       "      <th>0</th>\n",
       "      <td>0</td>\n",
       "      <td>Ford</td>\n",
       "      <td>Silverado</td>\n",
       "      <td>2022</td>\n",
       "      <td>18107</td>\n",
       "      <td>Excellent</td>\n",
       "      <td>19094.75</td>\n",
       "    </tr>\n",
       "    <tr>\n",
       "      <th>1</th>\n",
       "      <td>1</td>\n",
       "      <td>Toyota</td>\n",
       "      <td>Silverado</td>\n",
       "      <td>2014</td>\n",
       "      <td>13578</td>\n",
       "      <td>Excellent</td>\n",
       "      <td>27321.10</td>\n",
       "    </tr>\n",
       "    <tr>\n",
       "      <th>2</th>\n",
       "      <td>2</td>\n",
       "      <td>Chevrolet</td>\n",
       "      <td>Civic</td>\n",
       "      <td>2016</td>\n",
       "      <td>46054</td>\n",
       "      <td>Good</td>\n",
       "      <td>23697.30</td>\n",
       "    </tr>\n",
       "    <tr>\n",
       "      <th>3</th>\n",
       "      <td>3</td>\n",
       "      <td>Ford</td>\n",
       "      <td>Civic</td>\n",
       "      <td>2022</td>\n",
       "      <td>34981</td>\n",
       "      <td>Excellent</td>\n",
       "      <td>18251.05</td>\n",
       "    </tr>\n",
       "    <tr>\n",
       "      <th>4</th>\n",
       "      <td>4</td>\n",
       "      <td>Chevrolet</td>\n",
       "      <td>Civic</td>\n",
       "      <td>2019</td>\n",
       "      <td>63565</td>\n",
       "      <td>Excellent</td>\n",
       "      <td>19821.85</td>\n",
       "    </tr>\n",
       "  </tbody>\n",
       "</table>\n",
       "</div>"
      ],
      "text/plain": [
       "   Unnamed: 0       Make      Model  Year  Mileage  Condition     Price\n",
       "0           0       Ford  Silverado  2022    18107  Excellent  19094.75\n",
       "1           1     Toyota  Silverado  2014    13578  Excellent  27321.10\n",
       "2           2  Chevrolet      Civic  2016    46054       Good  23697.30\n",
       "3           3       Ford      Civic  2022    34981  Excellent  18251.05\n",
       "4           4  Chevrolet      Civic  2019    63565  Excellent  19821.85"
      ]
     },
     "execution_count": 4,
     "metadata": {},
     "output_type": "execute_result"
    }
   ],
   "source": [
    "data.head()"
   ]
  },
  {
   "cell_type": "code",
   "execution_count": 5,
   "id": "3016d7b3",
   "metadata": {
    "execution": {
     "iopub.execute_input": "2025-10-16T13:58:28.436120Z",
     "iopub.status.busy": "2025-10-16T13:58:28.435745Z",
     "iopub.status.idle": "2025-10-16T13:58:28.441872Z",
     "shell.execute_reply": "2025-10-16T13:58:28.440841Z"
    },
    "papermill": {
     "duration": 0.015449,
     "end_time": "2025-10-16T13:58:28.443378",
     "exception": false,
     "start_time": "2025-10-16T13:58:28.427929",
     "status": "completed"
    },
    "tags": []
   },
   "outputs": [
    {
     "data": {
      "text/plain": [
       "(1000, 7)"
      ]
     },
     "execution_count": 5,
     "metadata": {},
     "output_type": "execute_result"
    }
   ],
   "source": [
    "data.shape"
   ]
  },
  {
   "cell_type": "code",
   "execution_count": 6,
   "id": "0ac309d6",
   "metadata": {
    "execution": {
     "iopub.execute_input": "2025-10-16T13:58:28.458469Z",
     "iopub.status.busy": "2025-10-16T13:58:28.458148Z",
     "iopub.status.idle": "2025-10-16T13:58:28.469137Z",
     "shell.execute_reply": "2025-10-16T13:58:28.468253Z"
    },
    "papermill": {
     "duration": 0.020273,
     "end_time": "2025-10-16T13:58:28.470588",
     "exception": false,
     "start_time": "2025-10-16T13:58:28.450315",
     "status": "completed"
    },
    "tags": []
   },
   "outputs": [
    {
     "data": {
      "text/html": [
       "<div>\n",
       "<style scoped>\n",
       "    .dataframe tbody tr th:only-of-type {\n",
       "        vertical-align: middle;\n",
       "    }\n",
       "\n",
       "    .dataframe tbody tr th {\n",
       "        vertical-align: top;\n",
       "    }\n",
       "\n",
       "    .dataframe thead th {\n",
       "        text-align: right;\n",
       "    }\n",
       "</style>\n",
       "<table border=\"1\" class=\"dataframe\">\n",
       "  <thead>\n",
       "    <tr style=\"text-align: right;\">\n",
       "      <th></th>\n",
       "      <th>Unnamed: 0</th>\n",
       "      <th>Make</th>\n",
       "      <th>Model</th>\n",
       "      <th>Year</th>\n",
       "      <th>Mileage</th>\n",
       "      <th>Condition</th>\n",
       "      <th>Price</th>\n",
       "    </tr>\n",
       "  </thead>\n",
       "  <tbody>\n",
       "    <tr>\n",
       "      <th>995</th>\n",
       "      <td>995</td>\n",
       "      <td>Nissan</td>\n",
       "      <td>Camry</td>\n",
       "      <td>2010</td>\n",
       "      <td>149032</td>\n",
       "      <td>Excellent</td>\n",
       "      <td>24548.50</td>\n",
       "    </tr>\n",
       "    <tr>\n",
       "      <th>996</th>\n",
       "      <td>996</td>\n",
       "      <td>Chevrolet</td>\n",
       "      <td>F-150</td>\n",
       "      <td>2014</td>\n",
       "      <td>20608</td>\n",
       "      <td>Excellent</td>\n",
       "      <td>26969.70</td>\n",
       "    </tr>\n",
       "    <tr>\n",
       "      <th>997</th>\n",
       "      <td>997</td>\n",
       "      <td>Ford</td>\n",
       "      <td>Altima</td>\n",
       "      <td>2016</td>\n",
       "      <td>109851</td>\n",
       "      <td>Good</td>\n",
       "      <td>20507.55</td>\n",
       "    </tr>\n",
       "    <tr>\n",
       "      <th>998</th>\n",
       "      <td>998</td>\n",
       "      <td>Toyota</td>\n",
       "      <td>Silverado</td>\n",
       "      <td>2010</td>\n",
       "      <td>11704</td>\n",
       "      <td>Good</td>\n",
       "      <td>31414.90</td>\n",
       "    </tr>\n",
       "    <tr>\n",
       "      <th>999</th>\n",
       "      <td>999</td>\n",
       "      <td>Nissan</td>\n",
       "      <td>Silverado</td>\n",
       "      <td>2017</td>\n",
       "      <td>128390</td>\n",
       "      <td>Excellent</td>\n",
       "      <td>18580.60</td>\n",
       "    </tr>\n",
       "  </tbody>\n",
       "</table>\n",
       "</div>"
      ],
      "text/plain": [
       "     Unnamed: 0       Make      Model  Year  Mileage  Condition     Price\n",
       "995         995     Nissan      Camry  2010   149032  Excellent  24548.50\n",
       "996         996  Chevrolet      F-150  2014    20608  Excellent  26969.70\n",
       "997         997       Ford     Altima  2016   109851       Good  20507.55\n",
       "998         998     Toyota  Silverado  2010    11704       Good  31414.90\n",
       "999         999     Nissan  Silverado  2017   128390  Excellent  18580.60"
      ]
     },
     "execution_count": 6,
     "metadata": {},
     "output_type": "execute_result"
    }
   ],
   "source": [
    "data.tail()"
   ]
  },
  {
   "cell_type": "code",
   "execution_count": 7,
   "id": "ab46a972",
   "metadata": {
    "execution": {
     "iopub.execute_input": "2025-10-16T13:58:28.486403Z",
     "iopub.status.busy": "2025-10-16T13:58:28.486094Z",
     "iopub.status.idle": "2025-10-16T13:58:28.499396Z",
     "shell.execute_reply": "2025-10-16T13:58:28.498476Z"
    },
    "papermill": {
     "duration": 0.023299,
     "end_time": "2025-10-16T13:58:28.500967",
     "exception": false,
     "start_time": "2025-10-16T13:58:28.477668",
     "status": "completed"
    },
    "tags": []
   },
   "outputs": [
    {
     "data": {
      "text/plain": [
       "<bound method NDFrame.describe of      Unnamed: 0       Make      Model  Year  Mileage  Condition     Price\n",
       "0             0       Ford  Silverado  2022    18107  Excellent  19094.75\n",
       "1             1     Toyota  Silverado  2014    13578  Excellent  27321.10\n",
       "2             2  Chevrolet      Civic  2016    46054       Good  23697.30\n",
       "3             3       Ford      Civic  2022    34981  Excellent  18251.05\n",
       "4             4  Chevrolet      Civic  2019    63565  Excellent  19821.85\n",
       "..          ...        ...        ...   ...      ...        ...       ...\n",
       "995         995     Nissan      Camry  2010   149032  Excellent  24548.50\n",
       "996         996  Chevrolet      F-150  2014    20608  Excellent  26969.70\n",
       "997         997       Ford     Altima  2016   109851       Good  20507.55\n",
       "998         998     Toyota  Silverado  2010    11704       Good  31414.90\n",
       "999         999     Nissan  Silverado  2017   128390  Excellent  18580.60\n",
       "\n",
       "[1000 rows x 7 columns]>"
      ]
     },
     "execution_count": 7,
     "metadata": {},
     "output_type": "execute_result"
    }
   ],
   "source": [
    "data.describe"
   ]
  },
  {
   "cell_type": "markdown",
   "id": "1a243514",
   "metadata": {
    "papermill": {
     "duration": 0.006945,
     "end_time": "2025-10-16T13:58:28.515095",
     "exception": false,
     "start_time": "2025-10-16T13:58:28.508150",
     "status": "completed"
    },
    "tags": []
   },
   "source": [
    "## Splitting features of the target. "
   ]
  },
  {
   "cell_type": "markdown",
   "id": "4759acd2",
   "metadata": {
    "papermill": {
     "duration": 0.006953,
     "end_time": "2025-10-16T13:58:28.529044",
     "exception": false,
     "start_time": "2025-10-16T13:58:28.522091",
     "status": "completed"
    },
    "tags": []
   },
   "source": [
    "As I split the target variable, The dataset is separated into inputs and the target variable which is the output is in the car dataset. \n",
    "\n",
    "The target variable (y) -  This explains what we want to predict the dataset. \n",
    "\n",
    "Data(Price) we create a separate variable that contains car prices in the dataset. \n",
    "\n",
    "The features explains as the variable which we used to predict the target, and in that case, the feature includes The brand, the model, year, milage, Engine size, transmission etc. \n",
    "By using data.X = data.drop(\"Price\", axis=1), we removed the Price column from the dataset that the X contains the input features. This allow the model to learn from the training set and be evaluated on unseen data \n",
    "\n",
    "Below the features, they display the X and y. "
   ]
  },
  {
   "cell_type": "code",
   "execution_count": 8,
   "id": "b97225b1",
   "metadata": {
    "execution": {
     "iopub.execute_input": "2025-10-16T13:58:28.544672Z",
     "iopub.status.busy": "2025-10-16T13:58:28.544338Z",
     "iopub.status.idle": "2025-10-16T13:58:28.553363Z",
     "shell.execute_reply": "2025-10-16T13:58:28.552206Z"
    },
    "papermill": {
     "duration": 0.019023,
     "end_time": "2025-10-16T13:58:28.555154",
     "exception": false,
     "start_time": "2025-10-16T13:58:28.536131",
     "status": "completed"
    },
    "tags": []
   },
   "outputs": [],
   "source": [
    "X = data.drop(\"Price\", axis = 1)\n",
    "y = data[\"Price\"]"
   ]
  },
  {
   "cell_type": "code",
   "execution_count": 9,
   "id": "7f99c8dd",
   "metadata": {
    "execution": {
     "iopub.execute_input": "2025-10-16T13:58:28.571474Z",
     "iopub.status.busy": "2025-10-16T13:58:28.570678Z",
     "iopub.status.idle": "2025-10-16T13:58:28.581227Z",
     "shell.execute_reply": "2025-10-16T13:58:28.580435Z"
    },
    "papermill": {
     "duration": 0.020306,
     "end_time": "2025-10-16T13:58:28.582599",
     "exception": false,
     "start_time": "2025-10-16T13:58:28.562293",
     "status": "completed"
    },
    "tags": []
   },
   "outputs": [
    {
     "data": {
      "text/html": [
       "<div>\n",
       "<style scoped>\n",
       "    .dataframe tbody tr th:only-of-type {\n",
       "        vertical-align: middle;\n",
       "    }\n",
       "\n",
       "    .dataframe tbody tr th {\n",
       "        vertical-align: top;\n",
       "    }\n",
       "\n",
       "    .dataframe thead th {\n",
       "        text-align: right;\n",
       "    }\n",
       "</style>\n",
       "<table border=\"1\" class=\"dataframe\">\n",
       "  <thead>\n",
       "    <tr style=\"text-align: right;\">\n",
       "      <th></th>\n",
       "      <th>Unnamed: 0</th>\n",
       "      <th>Make</th>\n",
       "      <th>Model</th>\n",
       "      <th>Year</th>\n",
       "      <th>Mileage</th>\n",
       "      <th>Condition</th>\n",
       "    </tr>\n",
       "  </thead>\n",
       "  <tbody>\n",
       "    <tr>\n",
       "      <th>0</th>\n",
       "      <td>0</td>\n",
       "      <td>Ford</td>\n",
       "      <td>Silverado</td>\n",
       "      <td>2022</td>\n",
       "      <td>18107</td>\n",
       "      <td>Excellent</td>\n",
       "    </tr>\n",
       "    <tr>\n",
       "      <th>1</th>\n",
       "      <td>1</td>\n",
       "      <td>Toyota</td>\n",
       "      <td>Silverado</td>\n",
       "      <td>2014</td>\n",
       "      <td>13578</td>\n",
       "      <td>Excellent</td>\n",
       "    </tr>\n",
       "    <tr>\n",
       "      <th>2</th>\n",
       "      <td>2</td>\n",
       "      <td>Chevrolet</td>\n",
       "      <td>Civic</td>\n",
       "      <td>2016</td>\n",
       "      <td>46054</td>\n",
       "      <td>Good</td>\n",
       "    </tr>\n",
       "    <tr>\n",
       "      <th>3</th>\n",
       "      <td>3</td>\n",
       "      <td>Ford</td>\n",
       "      <td>Civic</td>\n",
       "      <td>2022</td>\n",
       "      <td>34981</td>\n",
       "      <td>Excellent</td>\n",
       "    </tr>\n",
       "    <tr>\n",
       "      <th>4</th>\n",
       "      <td>4</td>\n",
       "      <td>Chevrolet</td>\n",
       "      <td>Civic</td>\n",
       "      <td>2019</td>\n",
       "      <td>63565</td>\n",
       "      <td>Excellent</td>\n",
       "    </tr>\n",
       "    <tr>\n",
       "      <th>...</th>\n",
       "      <td>...</td>\n",
       "      <td>...</td>\n",
       "      <td>...</td>\n",
       "      <td>...</td>\n",
       "      <td>...</td>\n",
       "      <td>...</td>\n",
       "    </tr>\n",
       "    <tr>\n",
       "      <th>995</th>\n",
       "      <td>995</td>\n",
       "      <td>Nissan</td>\n",
       "      <td>Camry</td>\n",
       "      <td>2010</td>\n",
       "      <td>149032</td>\n",
       "      <td>Excellent</td>\n",
       "    </tr>\n",
       "    <tr>\n",
       "      <th>996</th>\n",
       "      <td>996</td>\n",
       "      <td>Chevrolet</td>\n",
       "      <td>F-150</td>\n",
       "      <td>2014</td>\n",
       "      <td>20608</td>\n",
       "      <td>Excellent</td>\n",
       "    </tr>\n",
       "    <tr>\n",
       "      <th>997</th>\n",
       "      <td>997</td>\n",
       "      <td>Ford</td>\n",
       "      <td>Altima</td>\n",
       "      <td>2016</td>\n",
       "      <td>109851</td>\n",
       "      <td>Good</td>\n",
       "    </tr>\n",
       "    <tr>\n",
       "      <th>998</th>\n",
       "      <td>998</td>\n",
       "      <td>Toyota</td>\n",
       "      <td>Silverado</td>\n",
       "      <td>2010</td>\n",
       "      <td>11704</td>\n",
       "      <td>Good</td>\n",
       "    </tr>\n",
       "    <tr>\n",
       "      <th>999</th>\n",
       "      <td>999</td>\n",
       "      <td>Nissan</td>\n",
       "      <td>Silverado</td>\n",
       "      <td>2017</td>\n",
       "      <td>128390</td>\n",
       "      <td>Excellent</td>\n",
       "    </tr>\n",
       "  </tbody>\n",
       "</table>\n",
       "<p>1000 rows × 6 columns</p>\n",
       "</div>"
      ],
      "text/plain": [
       "     Unnamed: 0       Make      Model  Year  Mileage  Condition\n",
       "0             0       Ford  Silverado  2022    18107  Excellent\n",
       "1             1     Toyota  Silverado  2014    13578  Excellent\n",
       "2             2  Chevrolet      Civic  2016    46054       Good\n",
       "3             3       Ford      Civic  2022    34981  Excellent\n",
       "4             4  Chevrolet      Civic  2019    63565  Excellent\n",
       "..          ...        ...        ...   ...      ...        ...\n",
       "995         995     Nissan      Camry  2010   149032  Excellent\n",
       "996         996  Chevrolet      F-150  2014    20608  Excellent\n",
       "997         997       Ford     Altima  2016   109851       Good\n",
       "998         998     Toyota  Silverado  2010    11704       Good\n",
       "999         999     Nissan  Silverado  2017   128390  Excellent\n",
       "\n",
       "[1000 rows x 6 columns]"
      ]
     },
     "execution_count": 9,
     "metadata": {},
     "output_type": "execute_result"
    }
   ],
   "source": [
    "X"
   ]
  },
  {
   "cell_type": "code",
   "execution_count": 10,
   "id": "654a40f1",
   "metadata": {
    "execution": {
     "iopub.execute_input": "2025-10-16T13:58:28.598838Z",
     "iopub.status.busy": "2025-10-16T13:58:28.598451Z",
     "iopub.status.idle": "2025-10-16T13:58:28.605619Z",
     "shell.execute_reply": "2025-10-16T13:58:28.604728Z"
    },
    "papermill": {
     "duration": 0.016759,
     "end_time": "2025-10-16T13:58:28.606997",
     "exception": false,
     "start_time": "2025-10-16T13:58:28.590238",
     "status": "completed"
    },
    "tags": []
   },
   "outputs": [
    {
     "data": {
      "text/plain": [
       "0      19094.75\n",
       "1      27321.10\n",
       "2      23697.30\n",
       "3      18251.05\n",
       "4      19821.85\n",
       "         ...   \n",
       "995    24548.50\n",
       "996    26969.70\n",
       "997    20507.55\n",
       "998    31414.90\n",
       "999    18580.60\n",
       "Name: Price, Length: 1000, dtype: float64"
      ]
     },
     "execution_count": 10,
     "metadata": {},
     "output_type": "execute_result"
    }
   ],
   "source": [
    "y"
   ]
  },
  {
   "cell_type": "markdown",
   "id": "80906a1c",
   "metadata": {
    "papermill": {
     "duration": 0.007087,
     "end_time": "2025-10-16T13:58:28.621572",
     "exception": false,
     "start_time": "2025-10-16T13:58:28.614485",
     "status": "completed"
    },
    "tags": []
   },
   "source": [
    "### First printing dtypes"
   ]
  },
  {
   "cell_type": "markdown",
   "id": "a6e9a511",
   "metadata": {
    "papermill": {
     "duration": 0.007339,
     "end_time": "2025-10-16T13:58:28.636295",
     "exception": false,
     "start_time": "2025-10-16T13:58:28.628956",
     "status": "completed"
    },
    "tags": []
   },
   "source": [
    "When working with the datasets, printing dtypes is critical to understand the type of data that includes in every column, In Pandas the data.dtypes assists om determining this by displaying the data type of each column in the dataframe. \n",
    "\n",
    "The output displays the numeric and which are categorized that guides the steps in data preprocessing building the model. "
   ]
  },
  {
   "cell_type": "code",
   "execution_count": 11,
   "id": "2e150a97",
   "metadata": {
    "execution": {
     "iopub.execute_input": "2025-10-16T13:58:28.652192Z",
     "iopub.status.busy": "2025-10-16T13:58:28.651885Z",
     "iopub.status.idle": "2025-10-16T13:58:28.657578Z",
     "shell.execute_reply": "2025-10-16T13:58:28.656471Z"
    },
    "papermill": {
     "duration": 0.015499,
     "end_time": "2025-10-16T13:58:28.659157",
     "exception": false,
     "start_time": "2025-10-16T13:58:28.643658",
     "status": "completed"
    },
    "tags": []
   },
   "outputs": [
    {
     "name": "stdout",
     "output_type": "stream",
     "text": [
      "Unnamed: 0     int64\n",
      "Make          object\n",
      "Model         object\n",
      "Year           int64\n",
      "Mileage        int64\n",
      "Condition     object\n",
      "dtype: object\n"
     ]
    }
   ],
   "source": [
    "print(X.dtypes)\n"
   ]
  },
  {
   "cell_type": "markdown",
   "id": "213e72dc",
   "metadata": {
    "papermill": {
     "duration": 0.007329,
     "end_time": "2025-10-16T13:58:28.674021",
     "exception": false,
     "start_time": "2025-10-16T13:58:28.666692",
     "status": "completed"
    },
    "tags": []
   },
   "source": [
    "After separating the datasets into features, and target, it is essential to inspect and prepare the data modeling. The following steps ensures that all columns are correctly formated and ready for regression analysis. "
   ]
  },
  {
   "cell_type": "markdown",
   "id": "ab57198e",
   "metadata": {
    "papermill": {
     "duration": 0.00721,
     "end_time": "2025-10-16T13:58:28.688546",
     "exception": false,
     "start_time": "2025-10-16T13:58:28.681336",
     "status": "completed"
    },
    "tags": []
   },
   "source": [
    "### Creating dummies \n",
    "\n",
    "To handle non-numeric columns dummies and variables that are used the code below. \n",
    "\n",
    "The purpose of this helps to identify the columns and numeric which is categorized"
   ]
  },
  {
   "cell_type": "markdown",
   "id": "3e416b8f",
   "metadata": {
    "papermill": {
     "duration": 0.007214,
     "end_time": "2025-10-16T13:58:28.703103",
     "exception": false,
     "start_time": "2025-10-16T13:58:28.695889",
     "status": "completed"
    },
    "tags": []
   },
   "source": [
    "### Encoding the variables "
   ]
  },
  {
   "cell_type": "markdown",
   "id": "ac049b9d",
   "metadata": {
    "papermill": {
     "duration": 0.007051,
     "end_time": "2025-10-16T13:58:28.717471",
     "exception": false,
     "start_time": "2025-10-16T13:58:28.710420",
     "status": "completed"
    },
    "tags": []
   },
   "source": [
    "Handling the non-numeric categoral columns, dummy variables and creating using pandas to create dummies, dropping the data and a bool. \n",
    "\n",
    "in this code, it converts text based lectures like petrol into binary columns \n",
    "\n",
    "drop_first_true helps to avoid the dummy variable trap which can cause multicollinearity in regression models.\n",
    "The result overall the features in X become numerical making them competible with machine learning algoritms."
   ]
  },
  {
   "cell_type": "code",
   "execution_count": 12,
   "id": "2fa37458",
   "metadata": {
    "execution": {
     "iopub.execute_input": "2025-10-16T13:58:28.733619Z",
     "iopub.status.busy": "2025-10-16T13:58:28.733338Z",
     "iopub.status.idle": "2025-10-16T13:58:28.745566Z",
     "shell.execute_reply": "2025-10-16T13:58:28.744840Z"
    },
    "papermill": {
     "duration": 0.022242,
     "end_time": "2025-10-16T13:58:28.747151",
     "exception": false,
     "start_time": "2025-10-16T13:58:28.724909",
     "status": "completed"
    },
    "tags": []
   },
   "outputs": [],
   "source": [
    "X = pd.get_dummies(X, drop_first=True)"
   ]
  },
  {
   "cell_type": "code",
   "execution_count": 13,
   "id": "2e2afcb8",
   "metadata": {
    "execution": {
     "iopub.execute_input": "2025-10-16T13:58:28.763447Z",
     "iopub.status.busy": "2025-10-16T13:58:28.763166Z",
     "iopub.status.idle": "2025-10-16T13:58:28.779140Z",
     "shell.execute_reply": "2025-10-16T13:58:28.778364Z"
    },
    "papermill": {
     "duration": 0.025576,
     "end_time": "2025-10-16T13:58:28.780443",
     "exception": false,
     "start_time": "2025-10-16T13:58:28.754867",
     "status": "completed"
    },
    "tags": []
   },
   "outputs": [
    {
     "data": {
      "text/html": [
       "<div>\n",
       "<style scoped>\n",
       "    .dataframe tbody tr th:only-of-type {\n",
       "        vertical-align: middle;\n",
       "    }\n",
       "\n",
       "    .dataframe tbody tr th {\n",
       "        vertical-align: top;\n",
       "    }\n",
       "\n",
       "    .dataframe thead th {\n",
       "        text-align: right;\n",
       "    }\n",
       "</style>\n",
       "<table border=\"1\" class=\"dataframe\">\n",
       "  <thead>\n",
       "    <tr style=\"text-align: right;\">\n",
       "      <th></th>\n",
       "      <th>Unnamed: 0</th>\n",
       "      <th>Year</th>\n",
       "      <th>Mileage</th>\n",
       "      <th>Make_Ford</th>\n",
       "      <th>Make_Honda</th>\n",
       "      <th>Make_Nissan</th>\n",
       "      <th>Make_Toyota</th>\n",
       "      <th>Model_Camry</th>\n",
       "      <th>Model_Civic</th>\n",
       "      <th>Model_F-150</th>\n",
       "      <th>Model_Silverado</th>\n",
       "      <th>Condition_Fair</th>\n",
       "      <th>Condition_Good</th>\n",
       "    </tr>\n",
       "  </thead>\n",
       "  <tbody>\n",
       "    <tr>\n",
       "      <th>0</th>\n",
       "      <td>0</td>\n",
       "      <td>2022</td>\n",
       "      <td>18107</td>\n",
       "      <td>True</td>\n",
       "      <td>False</td>\n",
       "      <td>False</td>\n",
       "      <td>False</td>\n",
       "      <td>False</td>\n",
       "      <td>False</td>\n",
       "      <td>False</td>\n",
       "      <td>True</td>\n",
       "      <td>False</td>\n",
       "      <td>False</td>\n",
       "    </tr>\n",
       "    <tr>\n",
       "      <th>1</th>\n",
       "      <td>1</td>\n",
       "      <td>2014</td>\n",
       "      <td>13578</td>\n",
       "      <td>False</td>\n",
       "      <td>False</td>\n",
       "      <td>False</td>\n",
       "      <td>True</td>\n",
       "      <td>False</td>\n",
       "      <td>False</td>\n",
       "      <td>False</td>\n",
       "      <td>True</td>\n",
       "      <td>False</td>\n",
       "      <td>False</td>\n",
       "    </tr>\n",
       "    <tr>\n",
       "      <th>2</th>\n",
       "      <td>2</td>\n",
       "      <td>2016</td>\n",
       "      <td>46054</td>\n",
       "      <td>False</td>\n",
       "      <td>False</td>\n",
       "      <td>False</td>\n",
       "      <td>False</td>\n",
       "      <td>False</td>\n",
       "      <td>True</td>\n",
       "      <td>False</td>\n",
       "      <td>False</td>\n",
       "      <td>False</td>\n",
       "      <td>True</td>\n",
       "    </tr>\n",
       "    <tr>\n",
       "      <th>3</th>\n",
       "      <td>3</td>\n",
       "      <td>2022</td>\n",
       "      <td>34981</td>\n",
       "      <td>True</td>\n",
       "      <td>False</td>\n",
       "      <td>False</td>\n",
       "      <td>False</td>\n",
       "      <td>False</td>\n",
       "      <td>True</td>\n",
       "      <td>False</td>\n",
       "      <td>False</td>\n",
       "      <td>False</td>\n",
       "      <td>False</td>\n",
       "    </tr>\n",
       "    <tr>\n",
       "      <th>4</th>\n",
       "      <td>4</td>\n",
       "      <td>2019</td>\n",
       "      <td>63565</td>\n",
       "      <td>False</td>\n",
       "      <td>False</td>\n",
       "      <td>False</td>\n",
       "      <td>False</td>\n",
       "      <td>False</td>\n",
       "      <td>True</td>\n",
       "      <td>False</td>\n",
       "      <td>False</td>\n",
       "      <td>False</td>\n",
       "      <td>False</td>\n",
       "    </tr>\n",
       "    <tr>\n",
       "      <th>...</th>\n",
       "      <td>...</td>\n",
       "      <td>...</td>\n",
       "      <td>...</td>\n",
       "      <td>...</td>\n",
       "      <td>...</td>\n",
       "      <td>...</td>\n",
       "      <td>...</td>\n",
       "      <td>...</td>\n",
       "      <td>...</td>\n",
       "      <td>...</td>\n",
       "      <td>...</td>\n",
       "      <td>...</td>\n",
       "      <td>...</td>\n",
       "    </tr>\n",
       "    <tr>\n",
       "      <th>995</th>\n",
       "      <td>995</td>\n",
       "      <td>2010</td>\n",
       "      <td>149032</td>\n",
       "      <td>False</td>\n",
       "      <td>False</td>\n",
       "      <td>True</td>\n",
       "      <td>False</td>\n",
       "      <td>True</td>\n",
       "      <td>False</td>\n",
       "      <td>False</td>\n",
       "      <td>False</td>\n",
       "      <td>False</td>\n",
       "      <td>False</td>\n",
       "    </tr>\n",
       "    <tr>\n",
       "      <th>996</th>\n",
       "      <td>996</td>\n",
       "      <td>2014</td>\n",
       "      <td>20608</td>\n",
       "      <td>False</td>\n",
       "      <td>False</td>\n",
       "      <td>False</td>\n",
       "      <td>False</td>\n",
       "      <td>False</td>\n",
       "      <td>False</td>\n",
       "      <td>True</td>\n",
       "      <td>False</td>\n",
       "      <td>False</td>\n",
       "      <td>False</td>\n",
       "    </tr>\n",
       "    <tr>\n",
       "      <th>997</th>\n",
       "      <td>997</td>\n",
       "      <td>2016</td>\n",
       "      <td>109851</td>\n",
       "      <td>True</td>\n",
       "      <td>False</td>\n",
       "      <td>False</td>\n",
       "      <td>False</td>\n",
       "      <td>False</td>\n",
       "      <td>False</td>\n",
       "      <td>False</td>\n",
       "      <td>False</td>\n",
       "      <td>False</td>\n",
       "      <td>True</td>\n",
       "    </tr>\n",
       "    <tr>\n",
       "      <th>998</th>\n",
       "      <td>998</td>\n",
       "      <td>2010</td>\n",
       "      <td>11704</td>\n",
       "      <td>False</td>\n",
       "      <td>False</td>\n",
       "      <td>False</td>\n",
       "      <td>True</td>\n",
       "      <td>False</td>\n",
       "      <td>False</td>\n",
       "      <td>False</td>\n",
       "      <td>True</td>\n",
       "      <td>False</td>\n",
       "      <td>True</td>\n",
       "    </tr>\n",
       "    <tr>\n",
       "      <th>999</th>\n",
       "      <td>999</td>\n",
       "      <td>2017</td>\n",
       "      <td>128390</td>\n",
       "      <td>False</td>\n",
       "      <td>False</td>\n",
       "      <td>True</td>\n",
       "      <td>False</td>\n",
       "      <td>False</td>\n",
       "      <td>False</td>\n",
       "      <td>False</td>\n",
       "      <td>True</td>\n",
       "      <td>False</td>\n",
       "      <td>False</td>\n",
       "    </tr>\n",
       "  </tbody>\n",
       "</table>\n",
       "<p>1000 rows × 13 columns</p>\n",
       "</div>"
      ],
      "text/plain": [
       "     Unnamed: 0  Year  Mileage  Make_Ford  Make_Honda  Make_Nissan  \\\n",
       "0             0  2022    18107       True       False        False   \n",
       "1             1  2014    13578      False       False        False   \n",
       "2             2  2016    46054      False       False        False   \n",
       "3             3  2022    34981       True       False        False   \n",
       "4             4  2019    63565      False       False        False   \n",
       "..          ...   ...      ...        ...         ...          ...   \n",
       "995         995  2010   149032      False       False         True   \n",
       "996         996  2014    20608      False       False        False   \n",
       "997         997  2016   109851       True       False        False   \n",
       "998         998  2010    11704      False       False        False   \n",
       "999         999  2017   128390      False       False         True   \n",
       "\n",
       "     Make_Toyota  Model_Camry  Model_Civic  Model_F-150  Model_Silverado  \\\n",
       "0          False        False        False        False             True   \n",
       "1           True        False        False        False             True   \n",
       "2          False        False         True        False            False   \n",
       "3          False        False         True        False            False   \n",
       "4          False        False         True        False            False   \n",
       "..           ...          ...          ...          ...              ...   \n",
       "995        False         True        False        False            False   \n",
       "996        False        False        False         True            False   \n",
       "997        False        False        False        False            False   \n",
       "998         True        False        False        False             True   \n",
       "999        False        False        False        False             True   \n",
       "\n",
       "     Condition_Fair  Condition_Good  \n",
       "0             False           False  \n",
       "1             False           False  \n",
       "2             False            True  \n",
       "3             False           False  \n",
       "4             False           False  \n",
       "..              ...             ...  \n",
       "995           False           False  \n",
       "996           False           False  \n",
       "997           False            True  \n",
       "998           False            True  \n",
       "999           False           False  \n",
       "\n",
       "[1000 rows x 13 columns]"
      ]
     },
     "execution_count": 13,
     "metadata": {},
     "output_type": "execute_result"
    }
   ],
   "source": [
    "X"
   ]
  },
  {
   "cell_type": "markdown",
   "id": "e7b5d098",
   "metadata": {
    "papermill": {
     "duration": 0.007751,
     "end_time": "2025-10-16T13:58:28.796226",
     "exception": false,
     "start_time": "2025-10-16T13:58:28.788475",
     "status": "completed"
    },
    "tags": []
   },
   "source": [
    "### Printing the y dtypes \n",
    "\n",
    "Printing the datatype y checks whether the target variable (car price) is numerical. This explains when the output shows the y object whether the target variable which is the car price is numerical \n",
    "\n",
    "Based on the output, it displayys as object instead of float or int, the prices, may contain text, symbols or formatting issues with the use of symbol. The next step of the of the values is converted. \n",
    "\n"
   ]
  },
  {
   "cell_type": "code",
   "execution_count": 14,
   "id": "a8971131",
   "metadata": {
    "execution": {
     "iopub.execute_input": "2025-10-16T13:58:28.813138Z",
     "iopub.status.busy": "2025-10-16T13:58:28.812829Z",
     "iopub.status.idle": "2025-10-16T13:58:28.818146Z",
     "shell.execute_reply": "2025-10-16T13:58:28.817099Z"
    },
    "papermill": {
     "duration": 0.01561,
     "end_time": "2025-10-16T13:58:28.819589",
     "exception": false,
     "start_time": "2025-10-16T13:58:28.803979",
     "status": "completed"
    },
    "tags": []
   },
   "outputs": [
    {
     "name": "stdout",
     "output_type": "stream",
     "text": [
      "float64\n"
     ]
    }
   ],
   "source": [
    "print(y.dtype)"
   ]
  },
  {
   "cell_type": "markdown",
   "id": "aa65a939",
   "metadata": {
    "papermill": {
     "duration": 0.007675,
     "end_time": "2025-10-16T13:58:28.835195",
     "exception": false,
     "start_time": "2025-10-16T13:58:28.827520",
     "status": "completed"
    },
    "tags": []
   },
   "source": [
    "### The numeric conversion with pandas pd to numeric errors \n",
    "\n",
    "Y aka the Price includes non-numeric entities, I convert them by using pandas to numeric. This focuses all entities in y that becomes numeric. \n",
    "\n",
    "Note: Any invalid or non-numeric entities like some missing values or symbols are replaced with NaN. This ensures target variable is clean and usable for regression. "
   ]
  },
  {
   "cell_type": "code",
   "execution_count": 15,
   "id": "8d5760c8",
   "metadata": {
    "execution": {
     "iopub.execute_input": "2025-10-16T13:58:28.853107Z",
     "iopub.status.busy": "2025-10-16T13:58:28.852214Z",
     "iopub.status.idle": "2025-10-16T13:58:28.857014Z",
     "shell.execute_reply": "2025-10-16T13:58:28.856108Z"
    },
    "papermill": {
     "duration": 0.015471,
     "end_time": "2025-10-16T13:58:28.858509",
     "exception": false,
     "start_time": "2025-10-16T13:58:28.843038",
     "status": "completed"
    },
    "tags": []
   },
   "outputs": [],
   "source": [
    "y = pd.to_numeric(y, errors='coerce')\n"
   ]
  },
  {
   "cell_type": "markdown",
   "id": "6ec2a36c",
   "metadata": {
    "papermill": {
     "duration": 0.007648,
     "end_time": "2025-10-16T13:58:28.874100",
     "exception": false,
     "start_time": "2025-10-16T13:58:28.866452",
     "status": "completed"
    },
    "tags": []
   },
   "source": [
    "### Handling missing values"
   ]
  },
  {
   "cell_type": "markdown",
   "id": "e4dfe8ec",
   "metadata": {
    "papermill": {
     "duration": 0.007598,
     "end_time": "2025-10-16T13:58:28.889426",
     "exception": false,
     "start_time": "2025-10-16T13:58:28.881828",
     "status": "completed"
    },
    "tags": []
   },
   "source": [
    "Removing rows when x or y contains missing values. This purpose filters out the rows with missing target values. Because Machine learning models cannot train on such incomplete data so only rows validate numeric pieces are kept. "
   ]
  },
  {
   "cell_type": "code",
   "execution_count": 16,
   "id": "af4e9118",
   "metadata": {
    "execution": {
     "iopub.execute_input": "2025-10-16T13:58:28.905990Z",
     "iopub.status.busy": "2025-10-16T13:58:28.905649Z",
     "iopub.status.idle": "2025-10-16T13:58:28.911344Z",
     "shell.execute_reply": "2025-10-16T13:58:28.910586Z"
    },
    "papermill": {
     "duration": 0.015647,
     "end_time": "2025-10-16T13:58:28.912752",
     "exception": false,
     "start_time": "2025-10-16T13:58:28.897105",
     "status": "completed"
    },
    "tags": []
   },
   "outputs": [],
   "source": [
    "X = X[y.notnull()]\n",
    "y = y[y.notnull()]\n"
   ]
  },
  {
   "cell_type": "code",
   "execution_count": 17,
   "id": "84a7b023",
   "metadata": {
    "execution": {
     "iopub.execute_input": "2025-10-16T13:58:28.929549Z",
     "iopub.status.busy": "2025-10-16T13:58:28.929256Z",
     "iopub.status.idle": "2025-10-16T13:58:28.941085Z",
     "shell.execute_reply": "2025-10-16T13:58:28.940255Z"
    },
    "papermill": {
     "duration": 0.022029,
     "end_time": "2025-10-16T13:58:28.942623",
     "exception": false,
     "start_time": "2025-10-16T13:58:28.920594",
     "status": "completed"
    },
    "tags": []
   },
   "outputs": [],
   "source": [
    "X = X.fillna(X.mean())  # Fill numeric columns with mean\n",
    "# or\n",
    "X = X.dropna()           # Remove rows with missing values\n"
   ]
  },
  {
   "cell_type": "code",
   "execution_count": 18,
   "id": "5584358c",
   "metadata": {
    "execution": {
     "iopub.execute_input": "2025-10-16T13:58:28.959703Z",
     "iopub.status.busy": "2025-10-16T13:58:28.959384Z",
     "iopub.status.idle": "2025-10-16T13:58:28.969553Z",
     "shell.execute_reply": "2025-10-16T13:58:28.968833Z"
    },
    "papermill": {
     "duration": 0.020426,
     "end_time": "2025-10-16T13:58:28.970986",
     "exception": false,
     "start_time": "2025-10-16T13:58:28.950560",
     "status": "completed"
    },
    "tags": []
   },
   "outputs": [],
   "source": [
    "X = X.fillna(X.mean())  # Fill missing values\n",
    "y = pd.to_numeric(y, errors='coerce')\n",
    "X = X[y.notnull()]\n",
    "y = y[y.notnull()]\n"
   ]
  },
  {
   "cell_type": "code",
   "execution_count": 19,
   "id": "e8e95b34",
   "metadata": {
    "execution": {
     "iopub.execute_input": "2025-10-16T13:58:28.988900Z",
     "iopub.status.busy": "2025-10-16T13:58:28.987656Z",
     "iopub.status.idle": "2025-10-16T13:58:28.994317Z",
     "shell.execute_reply": "2025-10-16T13:58:28.993448Z"
    },
    "papermill": {
     "duration": 0.016916,
     "end_time": "2025-10-16T13:58:28.995918",
     "exception": false,
     "start_time": "2025-10-16T13:58:28.979002",
     "status": "completed"
    },
    "tags": []
   },
   "outputs": [],
   "source": [
    "X_train, X_test, y_train, y_test = train_test_split(\n",
    "    X, y, test_size=0.2, random_state=42\n",
    ")"
   ]
  },
  {
   "cell_type": "code",
   "execution_count": 20,
   "id": "91dd124c",
   "metadata": {
    "execution": {
     "iopub.execute_input": "2025-10-16T13:58:29.012899Z",
     "iopub.status.busy": "2025-10-16T13:58:29.012554Z",
     "iopub.status.idle": "2025-10-16T13:58:29.053139Z",
     "shell.execute_reply": "2025-10-16T13:58:29.051883Z"
    },
    "papermill": {
     "duration": 0.05101,
     "end_time": "2025-10-16T13:58:29.054840",
     "exception": false,
     "start_time": "2025-10-16T13:58:29.003830",
     "status": "completed"
    },
    "tags": []
   },
   "outputs": [
    {
     "data": {
      "text/html": [
       "<style>#sk-container-id-1 {color: black;background-color: white;}#sk-container-id-1 pre{padding: 0;}#sk-container-id-1 div.sk-toggleable {background-color: white;}#sk-container-id-1 label.sk-toggleable__label {cursor: pointer;display: block;width: 100%;margin-bottom: 0;padding: 0.3em;box-sizing: border-box;text-align: center;}#sk-container-id-1 label.sk-toggleable__label-arrow:before {content: \"▸\";float: left;margin-right: 0.25em;color: #696969;}#sk-container-id-1 label.sk-toggleable__label-arrow:hover:before {color: black;}#sk-container-id-1 div.sk-estimator:hover label.sk-toggleable__label-arrow:before {color: black;}#sk-container-id-1 div.sk-toggleable__content {max-height: 0;max-width: 0;overflow: hidden;text-align: left;background-color: #f0f8ff;}#sk-container-id-1 div.sk-toggleable__content pre {margin: 0.2em;color: black;border-radius: 0.25em;background-color: #f0f8ff;}#sk-container-id-1 input.sk-toggleable__control:checked~div.sk-toggleable__content {max-height: 200px;max-width: 100%;overflow: auto;}#sk-container-id-1 input.sk-toggleable__control:checked~label.sk-toggleable__label-arrow:before {content: \"▾\";}#sk-container-id-1 div.sk-estimator input.sk-toggleable__control:checked~label.sk-toggleable__label {background-color: #d4ebff;}#sk-container-id-1 div.sk-label input.sk-toggleable__control:checked~label.sk-toggleable__label {background-color: #d4ebff;}#sk-container-id-1 input.sk-hidden--visually {border: 0;clip: rect(1px 1px 1px 1px);clip: rect(1px, 1px, 1px, 1px);height: 1px;margin: -1px;overflow: hidden;padding: 0;position: absolute;width: 1px;}#sk-container-id-1 div.sk-estimator {font-family: monospace;background-color: #f0f8ff;border: 1px dotted black;border-radius: 0.25em;box-sizing: border-box;margin-bottom: 0.5em;}#sk-container-id-1 div.sk-estimator:hover {background-color: #d4ebff;}#sk-container-id-1 div.sk-parallel-item::after {content: \"\";width: 100%;border-bottom: 1px solid gray;flex-grow: 1;}#sk-container-id-1 div.sk-label:hover label.sk-toggleable__label {background-color: #d4ebff;}#sk-container-id-1 div.sk-serial::before {content: \"\";position: absolute;border-left: 1px solid gray;box-sizing: border-box;top: 0;bottom: 0;left: 50%;z-index: 0;}#sk-container-id-1 div.sk-serial {display: flex;flex-direction: column;align-items: center;background-color: white;padding-right: 0.2em;padding-left: 0.2em;position: relative;}#sk-container-id-1 div.sk-item {position: relative;z-index: 1;}#sk-container-id-1 div.sk-parallel {display: flex;align-items: stretch;justify-content: center;background-color: white;position: relative;}#sk-container-id-1 div.sk-item::before, #sk-container-id-1 div.sk-parallel-item::before {content: \"\";position: absolute;border-left: 1px solid gray;box-sizing: border-box;top: 0;bottom: 0;left: 50%;z-index: -1;}#sk-container-id-1 div.sk-parallel-item {display: flex;flex-direction: column;z-index: 1;position: relative;background-color: white;}#sk-container-id-1 div.sk-parallel-item:first-child::after {align-self: flex-end;width: 50%;}#sk-container-id-1 div.sk-parallel-item:last-child::after {align-self: flex-start;width: 50%;}#sk-container-id-1 div.sk-parallel-item:only-child::after {width: 0;}#sk-container-id-1 div.sk-dashed-wrapped {border: 1px dashed gray;margin: 0 0.4em 0.5em 0.4em;box-sizing: border-box;padding-bottom: 0.4em;background-color: white;}#sk-container-id-1 div.sk-label label {font-family: monospace;font-weight: bold;display: inline-block;line-height: 1.2em;}#sk-container-id-1 div.sk-label-container {text-align: center;}#sk-container-id-1 div.sk-container {/* jupyter's `normalize.less` sets `[hidden] { display: none; }` but bootstrap.min.css set `[hidden] { display: none !important; }` so we also need the `!important` here to be able to override the default hidden behavior on the sphinx rendered scikit-learn.org. See: https://github.com/scikit-learn/scikit-learn/issues/21755 */display: inline-block !important;position: relative;}#sk-container-id-1 div.sk-text-repr-fallback {display: none;}</style><div id=\"sk-container-id-1\" class=\"sk-top-container\"><div class=\"sk-text-repr-fallback\"><pre>LinearRegression()</pre><b>In a Jupyter environment, please rerun this cell to show the HTML representation or trust the notebook. <br />On GitHub, the HTML representation is unable to render, please try loading this page with nbviewer.org.</b></div><div class=\"sk-container\" hidden><div class=\"sk-item\"><div class=\"sk-estimator sk-toggleable\"><input class=\"sk-toggleable__control sk-hidden--visually\" id=\"sk-estimator-id-1\" type=\"checkbox\" checked><label for=\"sk-estimator-id-1\" class=\"sk-toggleable__label sk-toggleable__label-arrow\">LinearRegression</label><div class=\"sk-toggleable__content\"><pre>LinearRegression()</pre></div></div></div></div></div>"
      ],
      "text/plain": [
       "LinearRegression()"
      ]
     },
     "execution_count": 20,
     "metadata": {},
     "output_type": "execute_result"
    }
   ],
   "source": [
    "\n",
    "model = LinearRegression()\n",
    "model.fit(X_train, y_train)  # ✅ Now it should work\n"
   ]
  },
  {
   "cell_type": "markdown",
   "id": "b2d864b7",
   "metadata": {
    "papermill": {
     "duration": 0.00792,
     "end_time": "2025-10-16T13:58:29.071103",
     "exception": false,
     "start_time": "2025-10-16T13:58:29.063183",
     "status": "completed"
    },
    "tags": []
   },
   "source": [
    "## Evaluating the model "
   ]
  },
  {
   "cell_type": "markdown",
   "id": "64e91c65",
   "metadata": {
    "papermill": {
     "duration": 0.007819,
     "end_time": "2025-10-16T13:58:29.087675",
     "exception": false,
     "start_time": "2025-10-16T13:58:29.079856",
     "status": "completed"
    },
    "tags": []
   },
   "source": [
    "Right after training the regression is finished, is to evaluate the performance that helps the determine how well and the model that predicts car prices and whether it can generalize the unseen data. \n",
    "\n",
    "The evaluation process helps to determine how well the model predicts the car prices whether it can generalized the data. \n",
    "The evaluation begins by testing the model on the data hasn't seen before \n",
    "\n",
    "To be done with the evaluation, using the features X_test, and comparing the model's prediction y_pred against the actual car prices y_test.\n",
    "\n",
    "In machine learning, the Evaluating the model ensures that it's not only fitting the training data but also making accurate predictions on new data. \n"
   ]
  },
  {
   "cell_type": "markdown",
   "id": "a0d4f86b",
   "metadata": {
    "papermill": {
     "duration": 0.00797,
     "end_time": "2025-10-16T13:58:29.103811",
     "exception": false,
     "start_time": "2025-10-16T13:58:29.095841",
     "status": "completed"
    },
    "tags": []
   },
   "source": [
    "###  Evaluation and preprocessing."
   ]
  },
  {
   "cell_type": "code",
   "execution_count": 21,
   "id": "50ec73c1",
   "metadata": {
    "execution": {
     "iopub.execute_input": "2025-10-16T13:58:29.121296Z",
     "iopub.status.busy": "2025-10-16T13:58:29.120982Z",
     "iopub.status.idle": "2025-10-16T13:58:29.131912Z",
     "shell.execute_reply": "2025-10-16T13:58:29.130669Z"
    },
    "papermill": {
     "duration": 0.021381,
     "end_time": "2025-10-16T13:58:29.133383",
     "exception": false,
     "start_time": "2025-10-16T13:58:29.112002",
     "status": "completed"
    },
    "tags": []
   },
   "outputs": [
    {
     "name": "stdout",
     "output_type": "stream",
     "text": [
      "MSE: 0.0047774769474505764\n",
      "R² Score: 0.9999999997642285\n"
     ]
    }
   ],
   "source": [
    "y_pred = model.predict(X_test)\n",
    "\n",
    "print(\"MSE:\", mean_squared_error(y_test, y_pred))\n",
    "print(\"R² Score:\", r2_score(y_test, y_pred))"
   ]
  },
  {
   "cell_type": "code",
   "execution_count": 22,
   "id": "abbf26e3",
   "metadata": {
    "execution": {
     "iopub.execute_input": "2025-10-16T13:58:29.151520Z",
     "iopub.status.busy": "2025-10-16T13:58:29.151213Z",
     "iopub.status.idle": "2025-10-16T13:58:29.157256Z",
     "shell.execute_reply": "2025-10-16T13:58:29.156014Z"
    },
    "papermill": {
     "duration": 0.016819,
     "end_time": "2025-10-16T13:58:29.158669",
     "exception": false,
     "start_time": "2025-10-16T13:58:29.141850",
     "status": "completed"
    },
    "tags": []
   },
   "outputs": [
    {
     "name": "stdout",
     "output_type": "stream",
     "text": [
      "Unnamed: 0         int64\n",
      "Year               int64\n",
      "Mileage            int64\n",
      "Make_Ford           bool\n",
      "Make_Honda          bool\n",
      "Make_Nissan         bool\n",
      "Make_Toyota         bool\n",
      "Model_Camry         bool\n",
      "Model_Civic         bool\n",
      "Model_F-150         bool\n",
      "Model_Silverado     bool\n",
      "Condition_Fair      bool\n",
      "Condition_Good      bool\n",
      "dtype: object\n",
      "float64\n"
     ]
    }
   ],
   "source": [
    "print(X.dtypes)\n",
    "print(y.dtypes)"
   ]
  },
  {
   "cell_type": "markdown",
   "id": "478a5300",
   "metadata": {
    "papermill": {
     "duration": 0.007939,
     "end_time": "2025-10-16T13:58:29.174834",
     "exception": false,
     "start_time": "2025-10-16T13:58:29.166895",
     "status": "completed"
    },
    "tags": []
   },
   "source": [
    "### Summary of the code "
   ]
  },
  {
   "cell_type": "markdown",
   "id": "3b0df94a",
   "metadata": {
    "papermill": {
     "duration": 0.007956,
     "end_time": "2025-10-16T13:58:29.190904",
     "exception": false,
     "start_time": "2025-10-16T13:58:29.182948",
     "status": "completed"
    },
    "tags": []
   },
   "source": [
    "This notebook demonstrates the application of linear regressio techniques of the car prices as the main objective was to predict car prices based on various factors. As I begin the process, the first step I ddi is to import libraries to handle data, and loaded with dataset as inspected using commands sush as showing the data information. The main target of the dataset is to split into features and target. The variables are categorized namely as cars and condition were numerical format by using dummy to encode and the data types were verified to ensure compatibility with the model as its own. The data was divided into testing and training sets in linear regression model and evaluated as metrics such as MSE. And as a result, the model is approximately 0.9999 that indicates prediction performances.\n",
    "Lastly, printing the dtypes confirmed that all features were in numeric and boolean format. "
   ]
  }
 ],
 "metadata": {
  "kaggle": {
   "accelerator": "none",
   "dataSources": [
    {
     "datasetId": 8488204,
     "sourceId": 13378689,
     "sourceType": "datasetVersion"
    }
   ],
   "dockerImageVersionId": 31153,
   "isGpuEnabled": false,
   "isInternetEnabled": false,
   "language": "python",
   "sourceType": "notebook"
  },
  "kernelspec": {
   "display_name": "Python 3",
   "language": "python",
   "name": "python3"
  },
  "language_info": {
   "codemirror_mode": {
    "name": "ipython",
    "version": 3
   },
   "file_extension": ".py",
   "mimetype": "text/x-python",
   "name": "python",
   "nbconvert_exporter": "python",
   "pygments_lexer": "ipython3",
   "version": "3.11.13"
  },
  "papermill": {
   "default_parameters": {},
   "duration": 10.276844,
   "end_time": "2025-10-16T13:58:29.819967",
   "environment_variables": {},
   "exception": null,
   "input_path": "__notebook__.ipynb",
   "output_path": "__notebook__.ipynb",
   "parameters": {},
   "start_time": "2025-10-16T13:58:19.543123",
   "version": "2.6.0"
  }
 },
 "nbformat": 4,
 "nbformat_minor": 5
}
