{
 "cells": [
  {
   "cell_type": "markdown",
   "id": "7327ecb3",
   "metadata": {
    "papermill": {
     "duration": 0.007667,
     "end_time": "2025-10-29T15:40:19.315720",
     "exception": false,
     "start_time": "2025-10-29T15:40:19.308053",
     "status": "completed"
    },
    "tags": []
   },
   "source": [
    "## Exercise 1: Regression task \n",
    "\n"
   ]
  },
  {
   "cell_type": "markdown",
   "id": "381fbee3",
   "metadata": {
    "papermill": {
     "duration": 0.007692,
     "end_time": "2025-10-29T15:40:19.330362",
     "exception": false,
     "start_time": "2025-10-29T15:40:19.322670",
     "status": "completed"
    },
    "tags": []
   },
   "source": [
    "The dataset that i selected is all about car prices. I have prioritzed linear regression in this dataset. This dataset contains information about several vehicles, which includes to make model, year of manufacture, mileage, engine size, fuel types, transmission and other features, with the objetcive of estimating each others car's market price. \n"
   ]
  },
  {
   "cell_type": "markdown",
   "id": "6ab87d78",
   "metadata": {
    "papermill": {
     "duration": 0.00647,
     "end_time": "2025-10-29T15:40:19.343277",
     "exception": false,
     "start_time": "2025-10-29T15:40:19.336807",
     "status": "completed"
    },
    "tags": []
   },
   "source": [
    "### Importing libraries"
   ]
  },
  {
   "cell_type": "code",
   "execution_count": 1,
   "id": "7ce52d1e",
   "metadata": {
    "execution": {
     "iopub.execute_input": "2025-10-29T15:40:19.358027Z",
     "iopub.status.busy": "2025-10-29T15:40:19.357709Z",
     "iopub.status.idle": "2025-10-29T15:40:23.378881Z",
     "shell.execute_reply": "2025-10-29T15:40:23.377736Z"
    },
    "papermill": {
     "duration": 4.030906,
     "end_time": "2025-10-29T15:40:23.380548",
     "exception": false,
     "start_time": "2025-10-29T15:40:19.349642",
     "status": "completed"
    },
    "tags": []
   },
   "outputs": [],
   "source": [
    "import pandas as pd \n",
    "from sklearn.model_selection import train_test_split \n",
    "from sklearn.linear_model import LinearRegression \n",
    "from sklearn.preprocessing import StandardScaler \n",
    "from sklearn.metrics import accuracy_score, classification_report, confusion_matrix\n",
    "from sklearn.metrics import mean_squared_error, r2_score\n",
    "\n"
   ]
  },
  {
   "cell_type": "markdown",
   "id": "44b0968c",
   "metadata": {
    "papermill": {
     "duration": 0.007463,
     "end_time": "2025-10-29T15:40:23.394431",
     "exception": false,
     "start_time": "2025-10-29T15:40:23.386968",
     "status": "completed"
    },
    "tags": []
   },
   "source": [
    "## Loading the data."
   ]
  },
  {
   "cell_type": "markdown",
   "id": "3d2b2d31",
   "metadata": {
    "papermill": {
     "duration": 0.006814,
     "end_time": "2025-10-29T15:40:23.407428",
     "exception": false,
     "start_time": "2025-10-29T15:40:23.400614",
     "status": "completed"
    },
    "tags": []
   },
   "source": [
    "I have loaded the data about car prices. I imported the car price dataset into Python and modeling. As based on the analysis."
   ]
  },
  {
   "cell_type": "code",
   "execution_count": 2,
   "id": "b38e03f0",
   "metadata": {
    "execution": {
     "iopub.execute_input": "2025-10-29T15:40:23.421530Z",
     "iopub.status.busy": "2025-10-29T15:40:23.421034Z",
     "iopub.status.idle": "2025-10-29T15:40:23.450596Z",
     "shell.execute_reply": "2025-10-29T15:40:23.449067Z"
    },
    "papermill": {
     "duration": 0.038592,
     "end_time": "2025-10-29T15:40:23.452315",
     "exception": false,
     "start_time": "2025-10-29T15:40:23.413723",
     "status": "completed"
    },
    "tags": []
   },
   "outputs": [],
   "source": [
    "data = pd.read_csv(\"/kaggle/input/car-prices-proj/CarPricesPrediction.csv\")"
   ]
  },
  {
   "cell_type": "markdown",
   "id": "b95cc08b",
   "metadata": {
    "papermill": {
     "duration": 0.009908,
     "end_time": "2025-10-29T15:40:23.469172",
     "exception": false,
     "start_time": "2025-10-29T15:40:23.459264",
     "status": "completed"
    },
    "tags": []
   },
   "source": [
    "## Vieweing the first rows amd columns "
   ]
  },
  {
   "cell_type": "markdown",
   "id": "67030803",
   "metadata": {
    "papermill": {
     "duration": 0.006251,
     "end_time": "2025-10-29T15:40:23.481940",
     "exception": false,
     "start_time": "2025-10-29T15:40:23.475689",
     "status": "completed"
    },
    "tags": []
   },
   "source": [
    "The next step, I have to print the rows and columns by printing the data head, the dataset preview, and the column of the dataset. \n",
    "And as I ran the program, the output displays the preview, of the rows and columns. "
   ]
  },
  {
   "cell_type": "code",
   "execution_count": 3,
   "id": "8f14f810",
   "metadata": {
    "execution": {
     "iopub.execute_input": "2025-10-29T15:40:23.496438Z",
     "iopub.status.busy": "2025-10-29T15:40:23.496048Z",
     "iopub.status.idle": "2025-10-29T15:40:23.515218Z",
     "shell.execute_reply": "2025-10-29T15:40:23.514020Z"
    },
    "papermill": {
     "duration": 0.028099,
     "end_time": "2025-10-29T15:40:23.516750",
     "exception": false,
     "start_time": "2025-10-29T15:40:23.488651",
     "status": "completed"
    },
    "tags": []
   },
   "outputs": [
    {
     "name": "stdout",
     "output_type": "stream",
     "text": [
      "Dataset preview:\n",
      "    Unnamed: 0       Make      Model  Year  Mileage  Condition     Price\n",
      "0           0       Ford  Silverado  2022    18107  Excellent  19094.75\n",
      "1           1     Toyota  Silverado  2014    13578  Excellent  27321.10\n",
      "2           2  Chevrolet      Civic  2016    46054       Good  23697.30\n",
      "3           3       Ford      Civic  2022    34981  Excellent  18251.05\n",
      "4           4  Chevrolet      Civic  2019    63565  Excellent  19821.85 \n",
      "\n",
      "Colimn in dataset\n",
      " Index(['Unnamed: 0', 'Make', 'Model', 'Year', 'Mileage', 'Condition', 'Price'], dtype='object') \n",
      "\n"
     ]
    }
   ],
   "source": [
    "print(\"Dataset preview:\\n\", data.head(), \"\\n\")\n",
    "print(\"Colimn in dataset\\n\", data.columns, \"\\n\")\n"
   ]
  },
  {
   "cell_type": "markdown",
   "id": "319821fa",
   "metadata": {
    "papermill": {
     "duration": 0.006741,
     "end_time": "2025-10-29T15:40:23.531210",
     "exception": false,
     "start_time": "2025-10-29T15:40:23.524469",
     "status": "completed"
    },
    "tags": []
   },
   "source": [
    "### Data inspection"
   ]
  },
  {
   "cell_type": "markdown",
   "id": "59103319",
   "metadata": {
    "papermill": {
     "duration": 0.006427,
     "end_time": "2025-10-29T15:40:23.543816",
     "exception": false,
     "start_time": "2025-10-29T15:40:23.537389",
     "status": "completed"
    },
    "tags": []
   },
   "source": [
    "This dataset performs initial data inspection. So called as the namely tabular data. df.head() or data.head() is displayed to view the first rows to check the missing values. The data.info() allows to check the data types and missing values and data.describe() displays the summary statistics. "
   ]
  },
  {
   "cell_type": "code",
   "execution_count": 4,
   "id": "5ad8d768",
   "metadata": {
    "execution": {
     "iopub.execute_input": "2025-10-29T15:40:23.558418Z",
     "iopub.status.busy": "2025-10-29T15:40:23.557615Z",
     "iopub.status.idle": "2025-10-29T15:40:23.578393Z",
     "shell.execute_reply": "2025-10-29T15:40:23.577387Z"
    },
    "papermill": {
     "duration": 0.030191,
     "end_time": "2025-10-29T15:40:23.580151",
     "exception": false,
     "start_time": "2025-10-29T15:40:23.549960",
     "status": "completed"
    },
    "tags": []
   },
   "outputs": [
    {
     "data": {
      "text/html": [
       "<div>\n",
       "<style scoped>\n",
       "    .dataframe tbody tr th:only-of-type {\n",
       "        vertical-align: middle;\n",
       "    }\n",
       "\n",
       "    .dataframe tbody tr th {\n",
       "        vertical-align: top;\n",
       "    }\n",
       "\n",
       "    .dataframe thead th {\n",
       "        text-align: right;\n",
       "    }\n",
       "</style>\n",
       "<table border=\"1\" class=\"dataframe\">\n",
       "  <thead>\n",
       "    <tr style=\"text-align: right;\">\n",
       "      <th></th>\n",
       "      <th>Unnamed: 0</th>\n",
       "      <th>Make</th>\n",
       "      <th>Model</th>\n",
       "      <th>Year</th>\n",
       "      <th>Mileage</th>\n",
       "      <th>Condition</th>\n",
       "      <th>Price</th>\n",
       "    </tr>\n",
       "  </thead>\n",
       "  <tbody>\n",
       "    <tr>\n",
       "      <th>0</th>\n",
       "      <td>0</td>\n",
       "      <td>Ford</td>\n",
       "      <td>Silverado</td>\n",
       "      <td>2022</td>\n",
       "      <td>18107</td>\n",
       "      <td>Excellent</td>\n",
       "      <td>19094.75</td>\n",
       "    </tr>\n",
       "    <tr>\n",
       "      <th>1</th>\n",
       "      <td>1</td>\n",
       "      <td>Toyota</td>\n",
       "      <td>Silverado</td>\n",
       "      <td>2014</td>\n",
       "      <td>13578</td>\n",
       "      <td>Excellent</td>\n",
       "      <td>27321.10</td>\n",
       "    </tr>\n",
       "    <tr>\n",
       "      <th>2</th>\n",
       "      <td>2</td>\n",
       "      <td>Chevrolet</td>\n",
       "      <td>Civic</td>\n",
       "      <td>2016</td>\n",
       "      <td>46054</td>\n",
       "      <td>Good</td>\n",
       "      <td>23697.30</td>\n",
       "    </tr>\n",
       "    <tr>\n",
       "      <th>3</th>\n",
       "      <td>3</td>\n",
       "      <td>Ford</td>\n",
       "      <td>Civic</td>\n",
       "      <td>2022</td>\n",
       "      <td>34981</td>\n",
       "      <td>Excellent</td>\n",
       "      <td>18251.05</td>\n",
       "    </tr>\n",
       "    <tr>\n",
       "      <th>4</th>\n",
       "      <td>4</td>\n",
       "      <td>Chevrolet</td>\n",
       "      <td>Civic</td>\n",
       "      <td>2019</td>\n",
       "      <td>63565</td>\n",
       "      <td>Excellent</td>\n",
       "      <td>19821.85</td>\n",
       "    </tr>\n",
       "  </tbody>\n",
       "</table>\n",
       "</div>"
      ],
      "text/plain": [
       "   Unnamed: 0       Make      Model  Year  Mileage  Condition     Price\n",
       "0           0       Ford  Silverado  2022    18107  Excellent  19094.75\n",
       "1           1     Toyota  Silverado  2014    13578  Excellent  27321.10\n",
       "2           2  Chevrolet      Civic  2016    46054       Good  23697.30\n",
       "3           3       Ford      Civic  2022    34981  Excellent  18251.05\n",
       "4           4  Chevrolet      Civic  2019    63565  Excellent  19821.85"
      ]
     },
     "execution_count": 4,
     "metadata": {},
     "output_type": "execute_result"
    }
   ],
   "source": [
    "data.head()"
   ]
  },
  {
   "cell_type": "code",
   "execution_count": 5,
   "id": "8ae63246",
   "metadata": {
    "execution": {
     "iopub.execute_input": "2025-10-29T15:40:23.594986Z",
     "iopub.status.busy": "2025-10-29T15:40:23.594674Z",
     "iopub.status.idle": "2025-10-29T15:40:23.600717Z",
     "shell.execute_reply": "2025-10-29T15:40:23.599584Z"
    },
    "papermill": {
     "duration": 0.015015,
     "end_time": "2025-10-29T15:40:23.602233",
     "exception": false,
     "start_time": "2025-10-29T15:40:23.587218",
     "status": "completed"
    },
    "tags": []
   },
   "outputs": [
    {
     "data": {
      "text/plain": [
       "(1000, 7)"
      ]
     },
     "execution_count": 5,
     "metadata": {},
     "output_type": "execute_result"
    }
   ],
   "source": [
    "data.shape"
   ]
  },
  {
   "cell_type": "code",
   "execution_count": 6,
   "id": "d9dd6313",
   "metadata": {
    "execution": {
     "iopub.execute_input": "2025-10-29T15:40:23.617960Z",
     "iopub.status.busy": "2025-10-29T15:40:23.617639Z",
     "iopub.status.idle": "2025-10-29T15:40:23.629703Z",
     "shell.execute_reply": "2025-10-29T15:40:23.628692Z"
    },
    "papermill": {
     "duration": 0.021766,
     "end_time": "2025-10-29T15:40:23.631239",
     "exception": false,
     "start_time": "2025-10-29T15:40:23.609473",
     "status": "completed"
    },
    "tags": []
   },
   "outputs": [
    {
     "data": {
      "text/html": [
       "<div>\n",
       "<style scoped>\n",
       "    .dataframe tbody tr th:only-of-type {\n",
       "        vertical-align: middle;\n",
       "    }\n",
       "\n",
       "    .dataframe tbody tr th {\n",
       "        vertical-align: top;\n",
       "    }\n",
       "\n",
       "    .dataframe thead th {\n",
       "        text-align: right;\n",
       "    }\n",
       "</style>\n",
       "<table border=\"1\" class=\"dataframe\">\n",
       "  <thead>\n",
       "    <tr style=\"text-align: right;\">\n",
       "      <th></th>\n",
       "      <th>Unnamed: 0</th>\n",
       "      <th>Make</th>\n",
       "      <th>Model</th>\n",
       "      <th>Year</th>\n",
       "      <th>Mileage</th>\n",
       "      <th>Condition</th>\n",
       "      <th>Price</th>\n",
       "    </tr>\n",
       "  </thead>\n",
       "  <tbody>\n",
       "    <tr>\n",
       "      <th>995</th>\n",
       "      <td>995</td>\n",
       "      <td>Nissan</td>\n",
       "      <td>Camry</td>\n",
       "      <td>2010</td>\n",
       "      <td>149032</td>\n",
       "      <td>Excellent</td>\n",
       "      <td>24548.50</td>\n",
       "    </tr>\n",
       "    <tr>\n",
       "      <th>996</th>\n",
       "      <td>996</td>\n",
       "      <td>Chevrolet</td>\n",
       "      <td>F-150</td>\n",
       "      <td>2014</td>\n",
       "      <td>20608</td>\n",
       "      <td>Excellent</td>\n",
       "      <td>26969.70</td>\n",
       "    </tr>\n",
       "    <tr>\n",
       "      <th>997</th>\n",
       "      <td>997</td>\n",
       "      <td>Ford</td>\n",
       "      <td>Altima</td>\n",
       "      <td>2016</td>\n",
       "      <td>109851</td>\n",
       "      <td>Good</td>\n",
       "      <td>20507.55</td>\n",
       "    </tr>\n",
       "    <tr>\n",
       "      <th>998</th>\n",
       "      <td>998</td>\n",
       "      <td>Toyota</td>\n",
       "      <td>Silverado</td>\n",
       "      <td>2010</td>\n",
       "      <td>11704</td>\n",
       "      <td>Good</td>\n",
       "      <td>31414.90</td>\n",
       "    </tr>\n",
       "    <tr>\n",
       "      <th>999</th>\n",
       "      <td>999</td>\n",
       "      <td>Nissan</td>\n",
       "      <td>Silverado</td>\n",
       "      <td>2017</td>\n",
       "      <td>128390</td>\n",
       "      <td>Excellent</td>\n",
       "      <td>18580.60</td>\n",
       "    </tr>\n",
       "  </tbody>\n",
       "</table>\n",
       "</div>"
      ],
      "text/plain": [
       "     Unnamed: 0       Make      Model  Year  Mileage  Condition     Price\n",
       "995         995     Nissan      Camry  2010   149032  Excellent  24548.50\n",
       "996         996  Chevrolet      F-150  2014    20608  Excellent  26969.70\n",
       "997         997       Ford     Altima  2016   109851       Good  20507.55\n",
       "998         998     Toyota  Silverado  2010    11704       Good  31414.90\n",
       "999         999     Nissan  Silverado  2017   128390  Excellent  18580.60"
      ]
     },
     "execution_count": 6,
     "metadata": {},
     "output_type": "execute_result"
    }
   ],
   "source": [
    "data.tail()"
   ]
  },
  {
   "cell_type": "code",
   "execution_count": 7,
   "id": "5122f3cb",
   "metadata": {
    "execution": {
     "iopub.execute_input": "2025-10-29T15:40:23.646581Z",
     "iopub.status.busy": "2025-10-29T15:40:23.646299Z",
     "iopub.status.idle": "2025-10-29T15:40:23.661742Z",
     "shell.execute_reply": "2025-10-29T15:40:23.660718Z"
    },
    "papermill": {
     "duration": 0.024692,
     "end_time": "2025-10-29T15:40:23.663275",
     "exception": false,
     "start_time": "2025-10-29T15:40:23.638583",
     "status": "completed"
    },
    "tags": []
   },
   "outputs": [
    {
     "data": {
      "text/plain": [
       "<bound method NDFrame.describe of      Unnamed: 0       Make      Model  Year  Mileage  Condition     Price\n",
       "0             0       Ford  Silverado  2022    18107  Excellent  19094.75\n",
       "1             1     Toyota  Silverado  2014    13578  Excellent  27321.10\n",
       "2             2  Chevrolet      Civic  2016    46054       Good  23697.30\n",
       "3             3       Ford      Civic  2022    34981  Excellent  18251.05\n",
       "4             4  Chevrolet      Civic  2019    63565  Excellent  19821.85\n",
       "..          ...        ...        ...   ...      ...        ...       ...\n",
       "995         995     Nissan      Camry  2010   149032  Excellent  24548.50\n",
       "996         996  Chevrolet      F-150  2014    20608  Excellent  26969.70\n",
       "997         997       Ford     Altima  2016   109851       Good  20507.55\n",
       "998         998     Toyota  Silverado  2010    11704       Good  31414.90\n",
       "999         999     Nissan  Silverado  2017   128390  Excellent  18580.60\n",
       "\n",
       "[1000 rows x 7 columns]>"
      ]
     },
     "execution_count": 7,
     "metadata": {},
     "output_type": "execute_result"
    }
   ],
   "source": [
    "data.describe"
   ]
  },
  {
   "cell_type": "markdown",
   "id": "141a4ad8",
   "metadata": {
    "papermill": {
     "duration": 0.006499,
     "end_time": "2025-10-29T15:40:23.676952",
     "exception": false,
     "start_time": "2025-10-29T15:40:23.670453",
     "status": "completed"
    },
    "tags": []
   },
   "source": [
    "## Splitting features of the target. "
   ]
  },
  {
   "cell_type": "markdown",
   "id": "fa5a1437",
   "metadata": {
    "papermill": {
     "duration": 0.006689,
     "end_time": "2025-10-29T15:40:23.690204",
     "exception": false,
     "start_time": "2025-10-29T15:40:23.683515",
     "status": "completed"
    },
    "tags": []
   },
   "source": [
    "As I split the target variable, The dataset is separated into inputs and the target variable which is the output is in the car dataset. \n",
    "\n"
   ]
  },
  {
   "cell_type": "code",
   "execution_count": 8,
   "id": "2a81e5b0",
   "metadata": {
    "execution": {
     "iopub.execute_input": "2025-10-29T15:40:23.705955Z",
     "iopub.status.busy": "2025-10-29T15:40:23.705673Z",
     "iopub.status.idle": "2025-10-29T15:40:23.715260Z",
     "shell.execute_reply": "2025-10-29T15:40:23.714082Z"
    },
    "papermill": {
     "duration": 0.019103,
     "end_time": "2025-10-29T15:40:23.716687",
     "exception": false,
     "start_time": "2025-10-29T15:40:23.697584",
     "status": "completed"
    },
    "tags": []
   },
   "outputs": [],
   "source": [
    "X = data.drop(\"Price\", axis = 1)\n",
    "y = data[\"Price\"]"
   ]
  },
  {
   "cell_type": "code",
   "execution_count": 9,
   "id": "0ccd5a6c",
   "metadata": {
    "execution": {
     "iopub.execute_input": "2025-10-29T15:40:23.732406Z",
     "iopub.status.busy": "2025-10-29T15:40:23.731728Z",
     "iopub.status.idle": "2025-10-29T15:40:23.742702Z",
     "shell.execute_reply": "2025-10-29T15:40:23.741728Z"
    },
    "papermill": {
     "duration": 0.02066,
     "end_time": "2025-10-29T15:40:23.744272",
     "exception": false,
     "start_time": "2025-10-29T15:40:23.723612",
     "status": "completed"
    },
    "tags": []
   },
   "outputs": [
    {
     "data": {
      "text/html": [
       "<div>\n",
       "<style scoped>\n",
       "    .dataframe tbody tr th:only-of-type {\n",
       "        vertical-align: middle;\n",
       "    }\n",
       "\n",
       "    .dataframe tbody tr th {\n",
       "        vertical-align: top;\n",
       "    }\n",
       "\n",
       "    .dataframe thead th {\n",
       "        text-align: right;\n",
       "    }\n",
       "</style>\n",
       "<table border=\"1\" class=\"dataframe\">\n",
       "  <thead>\n",
       "    <tr style=\"text-align: right;\">\n",
       "      <th></th>\n",
       "      <th>Unnamed: 0</th>\n",
       "      <th>Make</th>\n",
       "      <th>Model</th>\n",
       "      <th>Year</th>\n",
       "      <th>Mileage</th>\n",
       "      <th>Condition</th>\n",
       "    </tr>\n",
       "  </thead>\n",
       "  <tbody>\n",
       "    <tr>\n",
       "      <th>0</th>\n",
       "      <td>0</td>\n",
       "      <td>Ford</td>\n",
       "      <td>Silverado</td>\n",
       "      <td>2022</td>\n",
       "      <td>18107</td>\n",
       "      <td>Excellent</td>\n",
       "    </tr>\n",
       "    <tr>\n",
       "      <th>1</th>\n",
       "      <td>1</td>\n",
       "      <td>Toyota</td>\n",
       "      <td>Silverado</td>\n",
       "      <td>2014</td>\n",
       "      <td>13578</td>\n",
       "      <td>Excellent</td>\n",
       "    </tr>\n",
       "    <tr>\n",
       "      <th>2</th>\n",
       "      <td>2</td>\n",
       "      <td>Chevrolet</td>\n",
       "      <td>Civic</td>\n",
       "      <td>2016</td>\n",
       "      <td>46054</td>\n",
       "      <td>Good</td>\n",
       "    </tr>\n",
       "    <tr>\n",
       "      <th>3</th>\n",
       "      <td>3</td>\n",
       "      <td>Ford</td>\n",
       "      <td>Civic</td>\n",
       "      <td>2022</td>\n",
       "      <td>34981</td>\n",
       "      <td>Excellent</td>\n",
       "    </tr>\n",
       "    <tr>\n",
       "      <th>4</th>\n",
       "      <td>4</td>\n",
       "      <td>Chevrolet</td>\n",
       "      <td>Civic</td>\n",
       "      <td>2019</td>\n",
       "      <td>63565</td>\n",
       "      <td>Excellent</td>\n",
       "    </tr>\n",
       "    <tr>\n",
       "      <th>...</th>\n",
       "      <td>...</td>\n",
       "      <td>...</td>\n",
       "      <td>...</td>\n",
       "      <td>...</td>\n",
       "      <td>...</td>\n",
       "      <td>...</td>\n",
       "    </tr>\n",
       "    <tr>\n",
       "      <th>995</th>\n",
       "      <td>995</td>\n",
       "      <td>Nissan</td>\n",
       "      <td>Camry</td>\n",
       "      <td>2010</td>\n",
       "      <td>149032</td>\n",
       "      <td>Excellent</td>\n",
       "    </tr>\n",
       "    <tr>\n",
       "      <th>996</th>\n",
       "      <td>996</td>\n",
       "      <td>Chevrolet</td>\n",
       "      <td>F-150</td>\n",
       "      <td>2014</td>\n",
       "      <td>20608</td>\n",
       "      <td>Excellent</td>\n",
       "    </tr>\n",
       "    <tr>\n",
       "      <th>997</th>\n",
       "      <td>997</td>\n",
       "      <td>Ford</td>\n",
       "      <td>Altima</td>\n",
       "      <td>2016</td>\n",
       "      <td>109851</td>\n",
       "      <td>Good</td>\n",
       "    </tr>\n",
       "    <tr>\n",
       "      <th>998</th>\n",
       "      <td>998</td>\n",
       "      <td>Toyota</td>\n",
       "      <td>Silverado</td>\n",
       "      <td>2010</td>\n",
       "      <td>11704</td>\n",
       "      <td>Good</td>\n",
       "    </tr>\n",
       "    <tr>\n",
       "      <th>999</th>\n",
       "      <td>999</td>\n",
       "      <td>Nissan</td>\n",
       "      <td>Silverado</td>\n",
       "      <td>2017</td>\n",
       "      <td>128390</td>\n",
       "      <td>Excellent</td>\n",
       "    </tr>\n",
       "  </tbody>\n",
       "</table>\n",
       "<p>1000 rows × 6 columns</p>\n",
       "</div>"
      ],
      "text/plain": [
       "     Unnamed: 0       Make      Model  Year  Mileage  Condition\n",
       "0             0       Ford  Silverado  2022    18107  Excellent\n",
       "1             1     Toyota  Silverado  2014    13578  Excellent\n",
       "2             2  Chevrolet      Civic  2016    46054       Good\n",
       "3             3       Ford      Civic  2022    34981  Excellent\n",
       "4             4  Chevrolet      Civic  2019    63565  Excellent\n",
       "..          ...        ...        ...   ...      ...        ...\n",
       "995         995     Nissan      Camry  2010   149032  Excellent\n",
       "996         996  Chevrolet      F-150  2014    20608  Excellent\n",
       "997         997       Ford     Altima  2016   109851       Good\n",
       "998         998     Toyota  Silverado  2010    11704       Good\n",
       "999         999     Nissan  Silverado  2017   128390  Excellent\n",
       "\n",
       "[1000 rows x 6 columns]"
      ]
     },
     "execution_count": 9,
     "metadata": {},
     "output_type": "execute_result"
    }
   ],
   "source": [
    "X"
   ]
  },
  {
   "cell_type": "code",
   "execution_count": 10,
   "id": "d862ad42",
   "metadata": {
    "execution": {
     "iopub.execute_input": "2025-10-29T15:40:23.761590Z",
     "iopub.status.busy": "2025-10-29T15:40:23.761308Z",
     "iopub.status.idle": "2025-10-29T15:40:23.769132Z",
     "shell.execute_reply": "2025-10-29T15:40:23.768164Z"
    },
    "papermill": {
     "duration": 0.017974,
     "end_time": "2025-10-29T15:40:23.770619",
     "exception": false,
     "start_time": "2025-10-29T15:40:23.752645",
     "status": "completed"
    },
    "tags": []
   },
   "outputs": [
    {
     "data": {
      "text/plain": [
       "0      19094.75\n",
       "1      27321.10\n",
       "2      23697.30\n",
       "3      18251.05\n",
       "4      19821.85\n",
       "         ...   \n",
       "995    24548.50\n",
       "996    26969.70\n",
       "997    20507.55\n",
       "998    31414.90\n",
       "999    18580.60\n",
       "Name: Price, Length: 1000, dtype: float64"
      ]
     },
     "execution_count": 10,
     "metadata": {},
     "output_type": "execute_result"
    }
   ],
   "source": [
    "y"
   ]
  },
  {
   "cell_type": "markdown",
   "id": "25ae6522",
   "metadata": {
    "papermill": {
     "duration": 0.007042,
     "end_time": "2025-10-29T15:40:23.785033",
     "exception": false,
     "start_time": "2025-10-29T15:40:23.777991",
     "status": "completed"
    },
    "tags": []
   },
   "source": [
    "### First printing dtypes"
   ]
  },
  {
   "cell_type": "markdown",
   "id": "d5e5c900",
   "metadata": {
    "papermill": {
     "duration": 0.007348,
     "end_time": "2025-10-29T15:40:23.799867",
     "exception": false,
     "start_time": "2025-10-29T15:40:23.792519",
     "status": "completed"
    },
    "tags": []
   },
   "source": [
    "When working with the datasets, printing dtypes is critical to understand the type of data that includes in every column, In Pandas the data.dtypes assists om determining this by displaying the data type of each column in the dataframe. \n"
   ]
  },
  {
   "cell_type": "code",
   "execution_count": 11,
   "id": "22a1fa82",
   "metadata": {
    "execution": {
     "iopub.execute_input": "2025-10-29T15:40:23.816011Z",
     "iopub.status.busy": "2025-10-29T15:40:23.815709Z",
     "iopub.status.idle": "2025-10-29T15:40:23.822073Z",
     "shell.execute_reply": "2025-10-29T15:40:23.820826Z"
    },
    "papermill": {
     "duration": 0.016167,
     "end_time": "2025-10-29T15:40:23.823513",
     "exception": false,
     "start_time": "2025-10-29T15:40:23.807346",
     "status": "completed"
    },
    "tags": []
   },
   "outputs": [
    {
     "name": "stdout",
     "output_type": "stream",
     "text": [
      "Unnamed: 0     int64\n",
      "Make          object\n",
      "Model         object\n",
      "Year           int64\n",
      "Mileage        int64\n",
      "Condition     object\n",
      "dtype: object\n"
     ]
    }
   ],
   "source": [
    "print(X.dtypes)\n"
   ]
  },
  {
   "cell_type": "markdown",
   "id": "9200318c",
   "metadata": {
    "papermill": {
     "duration": 0.006985,
     "end_time": "2025-10-29T15:40:23.837881",
     "exception": false,
     "start_time": "2025-10-29T15:40:23.830896",
     "status": "completed"
    },
    "tags": []
   },
   "source": [
    "After separating the datasets into features, and target, it is essential to inspect and prepare the data modeling."
   ]
  },
  {
   "cell_type": "markdown",
   "id": "f3cabe24",
   "metadata": {
    "papermill": {
     "duration": 0.006935,
     "end_time": "2025-10-29T15:40:23.851915",
     "exception": false,
     "start_time": "2025-10-29T15:40:23.844980",
     "status": "completed"
    },
    "tags": []
   },
   "source": [
    "### Creating dummies \n",
    "\n",
    "To handle non-numeric columns dummies and variables that are used the code below. \n",
    "The purpose of this helps to identify the columns and numeric which is categorized"
   ]
  },
  {
   "cell_type": "markdown",
   "id": "f79ea36e",
   "metadata": {
    "papermill": {
     "duration": 0.006848,
     "end_time": "2025-10-29T15:40:23.865915",
     "exception": false,
     "start_time": "2025-10-29T15:40:23.859067",
     "status": "completed"
    },
    "tags": []
   },
   "source": [
    "### Encoding the variables "
   ]
  },
  {
   "cell_type": "markdown",
   "id": "9951c462",
   "metadata": {
    "papermill": {
     "duration": 0.007,
     "end_time": "2025-10-29T15:40:23.880724",
     "exception": false,
     "start_time": "2025-10-29T15:40:23.873724",
     "status": "completed"
    },
    "tags": []
   },
   "source": [
    "Handling the non-numeric categoral columns, dummy variables and creating using pandas to create dummies, dropping the data and a bool. "
   ]
  },
  {
   "cell_type": "code",
   "execution_count": 12,
   "id": "9a6fa2ee",
   "metadata": {
    "execution": {
     "iopub.execute_input": "2025-10-29T15:40:23.897962Z",
     "iopub.status.busy": "2025-10-29T15:40:23.896975Z",
     "iopub.status.idle": "2025-10-29T15:40:23.910712Z",
     "shell.execute_reply": "2025-10-29T15:40:23.910032Z"
    },
    "papermill": {
     "duration": 0.023902,
     "end_time": "2025-10-29T15:40:23.912316",
     "exception": false,
     "start_time": "2025-10-29T15:40:23.888414",
     "status": "completed"
    },
    "tags": []
   },
   "outputs": [],
   "source": [
    "X = pd.get_dummies(X, drop_first=True)"
   ]
  },
  {
   "cell_type": "code",
   "execution_count": 13,
   "id": "2068a675",
   "metadata": {
    "execution": {
     "iopub.execute_input": "2025-10-29T15:40:23.927949Z",
     "iopub.status.busy": "2025-10-29T15:40:23.927657Z",
     "iopub.status.idle": "2025-10-29T15:40:23.944013Z",
     "shell.execute_reply": "2025-10-29T15:40:23.942961Z"
    },
    "papermill": {
     "duration": 0.025765,
     "end_time": "2025-10-29T15:40:23.945485",
     "exception": false,
     "start_time": "2025-10-29T15:40:23.919720",
     "status": "completed"
    },
    "tags": []
   },
   "outputs": [
    {
     "data": {
      "text/html": [
       "<div>\n",
       "<style scoped>\n",
       "    .dataframe tbody tr th:only-of-type {\n",
       "        vertical-align: middle;\n",
       "    }\n",
       "\n",
       "    .dataframe tbody tr th {\n",
       "        vertical-align: top;\n",
       "    }\n",
       "\n",
       "    .dataframe thead th {\n",
       "        text-align: right;\n",
       "    }\n",
       "</style>\n",
       "<table border=\"1\" class=\"dataframe\">\n",
       "  <thead>\n",
       "    <tr style=\"text-align: right;\">\n",
       "      <th></th>\n",
       "      <th>Unnamed: 0</th>\n",
       "      <th>Year</th>\n",
       "      <th>Mileage</th>\n",
       "      <th>Make_Ford</th>\n",
       "      <th>Make_Honda</th>\n",
       "      <th>Make_Nissan</th>\n",
       "      <th>Make_Toyota</th>\n",
       "      <th>Model_Camry</th>\n",
       "      <th>Model_Civic</th>\n",
       "      <th>Model_F-150</th>\n",
       "      <th>Model_Silverado</th>\n",
       "      <th>Condition_Fair</th>\n",
       "      <th>Condition_Good</th>\n",
       "    </tr>\n",
       "  </thead>\n",
       "  <tbody>\n",
       "    <tr>\n",
       "      <th>0</th>\n",
       "      <td>0</td>\n",
       "      <td>2022</td>\n",
       "      <td>18107</td>\n",
       "      <td>True</td>\n",
       "      <td>False</td>\n",
       "      <td>False</td>\n",
       "      <td>False</td>\n",
       "      <td>False</td>\n",
       "      <td>False</td>\n",
       "      <td>False</td>\n",
       "      <td>True</td>\n",
       "      <td>False</td>\n",
       "      <td>False</td>\n",
       "    </tr>\n",
       "    <tr>\n",
       "      <th>1</th>\n",
       "      <td>1</td>\n",
       "      <td>2014</td>\n",
       "      <td>13578</td>\n",
       "      <td>False</td>\n",
       "      <td>False</td>\n",
       "      <td>False</td>\n",
       "      <td>True</td>\n",
       "      <td>False</td>\n",
       "      <td>False</td>\n",
       "      <td>False</td>\n",
       "      <td>True</td>\n",
       "      <td>False</td>\n",
       "      <td>False</td>\n",
       "    </tr>\n",
       "    <tr>\n",
       "      <th>2</th>\n",
       "      <td>2</td>\n",
       "      <td>2016</td>\n",
       "      <td>46054</td>\n",
       "      <td>False</td>\n",
       "      <td>False</td>\n",
       "      <td>False</td>\n",
       "      <td>False</td>\n",
       "      <td>False</td>\n",
       "      <td>True</td>\n",
       "      <td>False</td>\n",
       "      <td>False</td>\n",
       "      <td>False</td>\n",
       "      <td>True</td>\n",
       "    </tr>\n",
       "    <tr>\n",
       "      <th>3</th>\n",
       "      <td>3</td>\n",
       "      <td>2022</td>\n",
       "      <td>34981</td>\n",
       "      <td>True</td>\n",
       "      <td>False</td>\n",
       "      <td>False</td>\n",
       "      <td>False</td>\n",
       "      <td>False</td>\n",
       "      <td>True</td>\n",
       "      <td>False</td>\n",
       "      <td>False</td>\n",
       "      <td>False</td>\n",
       "      <td>False</td>\n",
       "    </tr>\n",
       "    <tr>\n",
       "      <th>4</th>\n",
       "      <td>4</td>\n",
       "      <td>2019</td>\n",
       "      <td>63565</td>\n",
       "      <td>False</td>\n",
       "      <td>False</td>\n",
       "      <td>False</td>\n",
       "      <td>False</td>\n",
       "      <td>False</td>\n",
       "      <td>True</td>\n",
       "      <td>False</td>\n",
       "      <td>False</td>\n",
       "      <td>False</td>\n",
       "      <td>False</td>\n",
       "    </tr>\n",
       "    <tr>\n",
       "      <th>...</th>\n",
       "      <td>...</td>\n",
       "      <td>...</td>\n",
       "      <td>...</td>\n",
       "      <td>...</td>\n",
       "      <td>...</td>\n",
       "      <td>...</td>\n",
       "      <td>...</td>\n",
       "      <td>...</td>\n",
       "      <td>...</td>\n",
       "      <td>...</td>\n",
       "      <td>...</td>\n",
       "      <td>...</td>\n",
       "      <td>...</td>\n",
       "    </tr>\n",
       "    <tr>\n",
       "      <th>995</th>\n",
       "      <td>995</td>\n",
       "      <td>2010</td>\n",
       "      <td>149032</td>\n",
       "      <td>False</td>\n",
       "      <td>False</td>\n",
       "      <td>True</td>\n",
       "      <td>False</td>\n",
       "      <td>True</td>\n",
       "      <td>False</td>\n",
       "      <td>False</td>\n",
       "      <td>False</td>\n",
       "      <td>False</td>\n",
       "      <td>False</td>\n",
       "    </tr>\n",
       "    <tr>\n",
       "      <th>996</th>\n",
       "      <td>996</td>\n",
       "      <td>2014</td>\n",
       "      <td>20608</td>\n",
       "      <td>False</td>\n",
       "      <td>False</td>\n",
       "      <td>False</td>\n",
       "      <td>False</td>\n",
       "      <td>False</td>\n",
       "      <td>False</td>\n",
       "      <td>True</td>\n",
       "      <td>False</td>\n",
       "      <td>False</td>\n",
       "      <td>False</td>\n",
       "    </tr>\n",
       "    <tr>\n",
       "      <th>997</th>\n",
       "      <td>997</td>\n",
       "      <td>2016</td>\n",
       "      <td>109851</td>\n",
       "      <td>True</td>\n",
       "      <td>False</td>\n",
       "      <td>False</td>\n",
       "      <td>False</td>\n",
       "      <td>False</td>\n",
       "      <td>False</td>\n",
       "      <td>False</td>\n",
       "      <td>False</td>\n",
       "      <td>False</td>\n",
       "      <td>True</td>\n",
       "    </tr>\n",
       "    <tr>\n",
       "      <th>998</th>\n",
       "      <td>998</td>\n",
       "      <td>2010</td>\n",
       "      <td>11704</td>\n",
       "      <td>False</td>\n",
       "      <td>False</td>\n",
       "      <td>False</td>\n",
       "      <td>True</td>\n",
       "      <td>False</td>\n",
       "      <td>False</td>\n",
       "      <td>False</td>\n",
       "      <td>True</td>\n",
       "      <td>False</td>\n",
       "      <td>True</td>\n",
       "    </tr>\n",
       "    <tr>\n",
       "      <th>999</th>\n",
       "      <td>999</td>\n",
       "      <td>2017</td>\n",
       "      <td>128390</td>\n",
       "      <td>False</td>\n",
       "      <td>False</td>\n",
       "      <td>True</td>\n",
       "      <td>False</td>\n",
       "      <td>False</td>\n",
       "      <td>False</td>\n",
       "      <td>False</td>\n",
       "      <td>True</td>\n",
       "      <td>False</td>\n",
       "      <td>False</td>\n",
       "    </tr>\n",
       "  </tbody>\n",
       "</table>\n",
       "<p>1000 rows × 13 columns</p>\n",
       "</div>"
      ],
      "text/plain": [
       "     Unnamed: 0  Year  Mileage  Make_Ford  Make_Honda  Make_Nissan  \\\n",
       "0             0  2022    18107       True       False        False   \n",
       "1             1  2014    13578      False       False        False   \n",
       "2             2  2016    46054      False       False        False   \n",
       "3             3  2022    34981       True       False        False   \n",
       "4             4  2019    63565      False       False        False   \n",
       "..          ...   ...      ...        ...         ...          ...   \n",
       "995         995  2010   149032      False       False         True   \n",
       "996         996  2014    20608      False       False        False   \n",
       "997         997  2016   109851       True       False        False   \n",
       "998         998  2010    11704      False       False        False   \n",
       "999         999  2017   128390      False       False         True   \n",
       "\n",
       "     Make_Toyota  Model_Camry  Model_Civic  Model_F-150  Model_Silverado  \\\n",
       "0          False        False        False        False             True   \n",
       "1           True        False        False        False             True   \n",
       "2          False        False         True        False            False   \n",
       "3          False        False         True        False            False   \n",
       "4          False        False         True        False            False   \n",
       "..           ...          ...          ...          ...              ...   \n",
       "995        False         True        False        False            False   \n",
       "996        False        False        False         True            False   \n",
       "997        False        False        False        False            False   \n",
       "998         True        False        False        False             True   \n",
       "999        False        False        False        False             True   \n",
       "\n",
       "     Condition_Fair  Condition_Good  \n",
       "0             False           False  \n",
       "1             False           False  \n",
       "2             False            True  \n",
       "3             False           False  \n",
       "4             False           False  \n",
       "..              ...             ...  \n",
       "995           False           False  \n",
       "996           False           False  \n",
       "997           False            True  \n",
       "998           False            True  \n",
       "999           False           False  \n",
       "\n",
       "[1000 rows x 13 columns]"
      ]
     },
     "execution_count": 13,
     "metadata": {},
     "output_type": "execute_result"
    }
   ],
   "source": [
    "X"
   ]
  },
  {
   "cell_type": "markdown",
   "id": "71eeac69",
   "metadata": {
    "papermill": {
     "duration": 0.007462,
     "end_time": "2025-10-29T15:40:23.960774",
     "exception": false,
     "start_time": "2025-10-29T15:40:23.953312",
     "status": "completed"
    },
    "tags": []
   },
   "source": [
    "### Printing the y dtypes \n",
    "\n",
    "Printing the datatype y checks whether the target variable (car price) is numerical. This explains when the output shows the y object whether the target variable which is the car price is numerical \n",
    "\n",
    " \n",
    "\n"
   ]
  },
  {
   "cell_type": "code",
   "execution_count": 14,
   "id": "2d41761f",
   "metadata": {
    "execution": {
     "iopub.execute_input": "2025-10-29T15:40:23.980023Z",
     "iopub.status.busy": "2025-10-29T15:40:23.979677Z",
     "iopub.status.idle": "2025-10-29T15:40:23.984804Z",
     "shell.execute_reply": "2025-10-29T15:40:23.983925Z"
    },
    "papermill": {
     "duration": 0.017266,
     "end_time": "2025-10-29T15:40:23.986670",
     "exception": false,
     "start_time": "2025-10-29T15:40:23.969404",
     "status": "completed"
    },
    "tags": []
   },
   "outputs": [
    {
     "name": "stdout",
     "output_type": "stream",
     "text": [
      "float64\n"
     ]
    }
   ],
   "source": [
    "print(y.dtype)"
   ]
  },
  {
   "cell_type": "markdown",
   "id": "dc631af2",
   "metadata": {
    "papermill": {
     "duration": 0.0077,
     "end_time": "2025-10-29T15:40:24.003566",
     "exception": false,
     "start_time": "2025-10-29T15:40:23.995866",
     "status": "completed"
    },
    "tags": []
   },
   "source": [
    "### The numeric conversion with pandas pd to numeric errors \n",
    "\n",
    "Y aka the Price includes non-numeric entities, I convert them by using pandas to numeric. This focuses all entities in y that becomes numeric. \n",
    "\n",
    "Note: Any invalid or non-numeric entities like some missing values or symbols are replaced with NaN. This ensures target variable is clean and usable for regression. "
   ]
  },
  {
   "cell_type": "code",
   "execution_count": 15,
   "id": "89170354",
   "metadata": {
    "execution": {
     "iopub.execute_input": "2025-10-29T15:40:24.021365Z",
     "iopub.status.busy": "2025-10-29T15:40:24.021003Z",
     "iopub.status.idle": "2025-10-29T15:40:24.025489Z",
     "shell.execute_reply": "2025-10-29T15:40:24.024550Z"
    },
    "papermill": {
     "duration": 0.015049,
     "end_time": "2025-10-29T15:40:24.027040",
     "exception": false,
     "start_time": "2025-10-29T15:40:24.011991",
     "status": "completed"
    },
    "tags": []
   },
   "outputs": [],
   "source": [
    "y = pd.to_numeric(y, errors='coerce')\n"
   ]
  },
  {
   "cell_type": "markdown",
   "id": "5e18bb1a",
   "metadata": {
    "papermill": {
     "duration": 0.008514,
     "end_time": "2025-10-29T15:40:24.044701",
     "exception": false,
     "start_time": "2025-10-29T15:40:24.036187",
     "status": "completed"
    },
    "tags": []
   },
   "source": [
    "### Handling missing values"
   ]
  },
  {
   "cell_type": "markdown",
   "id": "96153446",
   "metadata": {
    "papermill": {
     "duration": 0.008137,
     "end_time": "2025-10-29T15:40:24.062870",
     "exception": false,
     "start_time": "2025-10-29T15:40:24.054733",
     "status": "completed"
    },
    "tags": []
   },
   "source": [
    "Removing rows when x or y contains missing values. This purpose filters out the rows with missing target values. Because Machine learning models cannot train on such incomplete data so only rows validate numeric pieces are kept. "
   ]
  },
  {
   "cell_type": "code",
   "execution_count": 16,
   "id": "2432dfb1",
   "metadata": {
    "execution": {
     "iopub.execute_input": "2025-10-29T15:40:24.080944Z",
     "iopub.status.busy": "2025-10-29T15:40:24.079934Z",
     "iopub.status.idle": "2025-10-29T15:40:24.086293Z",
     "shell.execute_reply": "2025-10-29T15:40:24.085173Z"
    },
    "papermill": {
     "duration": 0.016894,
     "end_time": "2025-10-29T15:40:24.087882",
     "exception": false,
     "start_time": "2025-10-29T15:40:24.070988",
     "status": "completed"
    },
    "tags": []
   },
   "outputs": [],
   "source": [
    "X = X[y.notnull()]\n",
    "y = y[y.notnull()]\n"
   ]
  },
  {
   "cell_type": "code",
   "execution_count": 17,
   "id": "7a0fcc09",
   "metadata": {
    "execution": {
     "iopub.execute_input": "2025-10-29T15:40:24.107450Z",
     "iopub.status.busy": "2025-10-29T15:40:24.107124Z",
     "iopub.status.idle": "2025-10-29T15:40:24.119834Z",
     "shell.execute_reply": "2025-10-29T15:40:24.118950Z"
    },
    "papermill": {
     "duration": 0.023466,
     "end_time": "2025-10-29T15:40:24.121521",
     "exception": false,
     "start_time": "2025-10-29T15:40:24.098055",
     "status": "completed"
    },
    "tags": []
   },
   "outputs": [],
   "source": [
    "X = X.fillna(X.mean())  # Fill numeric columns with mean\n",
    "# or\n",
    "X = X.dropna()           # Remove rows with missing values\n"
   ]
  },
  {
   "cell_type": "code",
   "execution_count": 18,
   "id": "bb2d5c87",
   "metadata": {
    "execution": {
     "iopub.execute_input": "2025-10-29T15:40:24.138455Z",
     "iopub.status.busy": "2025-10-29T15:40:24.138137Z",
     "iopub.status.idle": "2025-10-29T15:40:24.150685Z",
     "shell.execute_reply": "2025-10-29T15:40:24.149754Z"
    },
    "papermill": {
     "duration": 0.022871,
     "end_time": "2025-10-29T15:40:24.152516",
     "exception": false,
     "start_time": "2025-10-29T15:40:24.129645",
     "status": "completed"
    },
    "tags": []
   },
   "outputs": [],
   "source": [
    "X = X.fillna(X.mean())  # Fill missing values\n",
    "y = pd.to_numeric(y, errors='coerce')\n",
    "X = X[y.notnull()]\n",
    "y = y[y.notnull()]\n"
   ]
  },
  {
   "cell_type": "code",
   "execution_count": 19,
   "id": "d3920d97",
   "metadata": {
    "execution": {
     "iopub.execute_input": "2025-10-29T15:40:24.170576Z",
     "iopub.status.busy": "2025-10-29T15:40:24.170060Z",
     "iopub.status.idle": "2025-10-29T15:40:24.178911Z",
     "shell.execute_reply": "2025-10-29T15:40:24.177931Z"
    },
    "papermill": {
     "duration": 0.020412,
     "end_time": "2025-10-29T15:40:24.180963",
     "exception": false,
     "start_time": "2025-10-29T15:40:24.160551",
     "status": "completed"
    },
    "tags": []
   },
   "outputs": [],
   "source": [
    "X_train, X_test, y_train, y_test = train_test_split(\n",
    "    X, y, test_size=0.2, random_state=42\n",
    ")"
   ]
  },
  {
   "cell_type": "code",
   "execution_count": 20,
   "id": "07e56178",
   "metadata": {
    "execution": {
     "iopub.execute_input": "2025-10-29T15:40:24.198154Z",
     "iopub.status.busy": "2025-10-29T15:40:24.197809Z",
     "iopub.status.idle": "2025-10-29T15:40:24.249771Z",
     "shell.execute_reply": "2025-10-29T15:40:24.249067Z"
    },
    "papermill": {
     "duration": 0.062715,
     "end_time": "2025-10-29T15:40:24.251528",
     "exception": false,
     "start_time": "2025-10-29T15:40:24.188813",
     "status": "completed"
    },
    "tags": []
   },
   "outputs": [
    {
     "data": {
      "text/html": [
       "<style>#sk-container-id-1 {color: black;background-color: white;}#sk-container-id-1 pre{padding: 0;}#sk-container-id-1 div.sk-toggleable {background-color: white;}#sk-container-id-1 label.sk-toggleable__label {cursor: pointer;display: block;width: 100%;margin-bottom: 0;padding: 0.3em;box-sizing: border-box;text-align: center;}#sk-container-id-1 label.sk-toggleable__label-arrow:before {content: \"▸\";float: left;margin-right: 0.25em;color: #696969;}#sk-container-id-1 label.sk-toggleable__label-arrow:hover:before {color: black;}#sk-container-id-1 div.sk-estimator:hover label.sk-toggleable__label-arrow:before {color: black;}#sk-container-id-1 div.sk-toggleable__content {max-height: 0;max-width: 0;overflow: hidden;text-align: left;background-color: #f0f8ff;}#sk-container-id-1 div.sk-toggleable__content pre {margin: 0.2em;color: black;border-radius: 0.25em;background-color: #f0f8ff;}#sk-container-id-1 input.sk-toggleable__control:checked~div.sk-toggleable__content {max-height: 200px;max-width: 100%;overflow: auto;}#sk-container-id-1 input.sk-toggleable__control:checked~label.sk-toggleable__label-arrow:before {content: \"▾\";}#sk-container-id-1 div.sk-estimator input.sk-toggleable__control:checked~label.sk-toggleable__label {background-color: #d4ebff;}#sk-container-id-1 div.sk-label input.sk-toggleable__control:checked~label.sk-toggleable__label {background-color: #d4ebff;}#sk-container-id-1 input.sk-hidden--visually {border: 0;clip: rect(1px 1px 1px 1px);clip: rect(1px, 1px, 1px, 1px);height: 1px;margin: -1px;overflow: hidden;padding: 0;position: absolute;width: 1px;}#sk-container-id-1 div.sk-estimator {font-family: monospace;background-color: #f0f8ff;border: 1px dotted black;border-radius: 0.25em;box-sizing: border-box;margin-bottom: 0.5em;}#sk-container-id-1 div.sk-estimator:hover {background-color: #d4ebff;}#sk-container-id-1 div.sk-parallel-item::after {content: \"\";width: 100%;border-bottom: 1px solid gray;flex-grow: 1;}#sk-container-id-1 div.sk-label:hover label.sk-toggleable__label {background-color: #d4ebff;}#sk-container-id-1 div.sk-serial::before {content: \"\";position: absolute;border-left: 1px solid gray;box-sizing: border-box;top: 0;bottom: 0;left: 50%;z-index: 0;}#sk-container-id-1 div.sk-serial {display: flex;flex-direction: column;align-items: center;background-color: white;padding-right: 0.2em;padding-left: 0.2em;position: relative;}#sk-container-id-1 div.sk-item {position: relative;z-index: 1;}#sk-container-id-1 div.sk-parallel {display: flex;align-items: stretch;justify-content: center;background-color: white;position: relative;}#sk-container-id-1 div.sk-item::before, #sk-container-id-1 div.sk-parallel-item::before {content: \"\";position: absolute;border-left: 1px solid gray;box-sizing: border-box;top: 0;bottom: 0;left: 50%;z-index: -1;}#sk-container-id-1 div.sk-parallel-item {display: flex;flex-direction: column;z-index: 1;position: relative;background-color: white;}#sk-container-id-1 div.sk-parallel-item:first-child::after {align-self: flex-end;width: 50%;}#sk-container-id-1 div.sk-parallel-item:last-child::after {align-self: flex-start;width: 50%;}#sk-container-id-1 div.sk-parallel-item:only-child::after {width: 0;}#sk-container-id-1 div.sk-dashed-wrapped {border: 1px dashed gray;margin: 0 0.4em 0.5em 0.4em;box-sizing: border-box;padding-bottom: 0.4em;background-color: white;}#sk-container-id-1 div.sk-label label {font-family: monospace;font-weight: bold;display: inline-block;line-height: 1.2em;}#sk-container-id-1 div.sk-label-container {text-align: center;}#sk-container-id-1 div.sk-container {/* jupyter's `normalize.less` sets `[hidden] { display: none; }` but bootstrap.min.css set `[hidden] { display: none !important; }` so we also need the `!important` here to be able to override the default hidden behavior on the sphinx rendered scikit-learn.org. See: https://github.com/scikit-learn/scikit-learn/issues/21755 */display: inline-block !important;position: relative;}#sk-container-id-1 div.sk-text-repr-fallback {display: none;}</style><div id=\"sk-container-id-1\" class=\"sk-top-container\"><div class=\"sk-text-repr-fallback\"><pre>LinearRegression()</pre><b>In a Jupyter environment, please rerun this cell to show the HTML representation or trust the notebook. <br />On GitHub, the HTML representation is unable to render, please try loading this page with nbviewer.org.</b></div><div class=\"sk-container\" hidden><div class=\"sk-item\"><div class=\"sk-estimator sk-toggleable\"><input class=\"sk-toggleable__control sk-hidden--visually\" id=\"sk-estimator-id-1\" type=\"checkbox\" checked><label for=\"sk-estimator-id-1\" class=\"sk-toggleable__label sk-toggleable__label-arrow\">LinearRegression</label><div class=\"sk-toggleable__content\"><pre>LinearRegression()</pre></div></div></div></div></div>"
      ],
      "text/plain": [
       "LinearRegression()"
      ]
     },
     "execution_count": 20,
     "metadata": {},
     "output_type": "execute_result"
    }
   ],
   "source": [
    "\n",
    "model = LinearRegression()\n",
    "model.fit(X_train, y_train)  # ✅ Now it should work\n"
   ]
  },
  {
   "cell_type": "markdown",
   "id": "0d6aa8f5",
   "metadata": {
    "papermill": {
     "duration": 0.013103,
     "end_time": "2025-10-29T15:40:24.278017",
     "exception": false,
     "start_time": "2025-10-29T15:40:24.264914",
     "status": "completed"
    },
    "tags": []
   },
   "source": [
    "## Evaluating the model "
   ]
  },
  {
   "cell_type": "markdown",
   "id": "3db0a27c",
   "metadata": {
    "papermill": {
     "duration": 0.012555,
     "end_time": "2025-10-29T15:40:24.303626",
     "exception": false,
     "start_time": "2025-10-29T15:40:24.291071",
     "status": "completed"
    },
    "tags": []
   },
   "source": [
    "Right after training the regression is finished, is to evaluate the performance that helps the determine how well and the model that predicts car prices and whether it can generalize the unseen data. "
   ]
  },
  {
   "cell_type": "markdown",
   "id": "e63c2e0f",
   "metadata": {
    "papermill": {
     "duration": 0.01395,
     "end_time": "2025-10-29T15:40:24.331621",
     "exception": false,
     "start_time": "2025-10-29T15:40:24.317671",
     "status": "completed"
    },
    "tags": []
   },
   "source": [
    "###  Evaluation and preprocessing."
   ]
  },
  {
   "cell_type": "code",
   "execution_count": 21,
   "id": "f29d9d65",
   "metadata": {
    "execution": {
     "iopub.execute_input": "2025-10-29T15:40:24.357383Z",
     "iopub.status.busy": "2025-10-29T15:40:24.357078Z",
     "iopub.status.idle": "2025-10-29T15:40:24.369266Z",
     "shell.execute_reply": "2025-10-29T15:40:24.368192Z"
    },
    "papermill": {
     "duration": 0.026189,
     "end_time": "2025-10-29T15:40:24.370959",
     "exception": false,
     "start_time": "2025-10-29T15:40:24.344770",
     "status": "completed"
    },
    "tags": []
   },
   "outputs": [
    {
     "name": "stdout",
     "output_type": "stream",
     "text": [
      "MSE: 0.0047774769474505764\n",
      "R² Score: 0.9999999997642285\n"
     ]
    }
   ],
   "source": [
    "y_pred = model.predict(X_test)\n",
    "\n",
    "print(\"MSE:\", mean_squared_error(y_test, y_pred))\n",
    "print(\"R² Score:\", r2_score(y_test, y_pred))"
   ]
  },
  {
   "cell_type": "code",
   "execution_count": 22,
   "id": "06a7b5fb",
   "metadata": {
    "execution": {
     "iopub.execute_input": "2025-10-29T15:40:24.388911Z",
     "iopub.status.busy": "2025-10-29T15:40:24.388637Z",
     "iopub.status.idle": "2025-10-29T15:40:24.394918Z",
     "shell.execute_reply": "2025-10-29T15:40:24.393830Z"
    },
    "papermill": {
     "duration": 0.016747,
     "end_time": "2025-10-29T15:40:24.396612",
     "exception": false,
     "start_time": "2025-10-29T15:40:24.379865",
     "status": "completed"
    },
    "tags": []
   },
   "outputs": [
    {
     "name": "stdout",
     "output_type": "stream",
     "text": [
      "Unnamed: 0         int64\n",
      "Year               int64\n",
      "Mileage            int64\n",
      "Make_Ford           bool\n",
      "Make_Honda          bool\n",
      "Make_Nissan         bool\n",
      "Make_Toyota         bool\n",
      "Model_Camry         bool\n",
      "Model_Civic         bool\n",
      "Model_F-150         bool\n",
      "Model_Silverado     bool\n",
      "Condition_Fair      bool\n",
      "Condition_Good      bool\n",
      "dtype: object\n",
      "float64\n"
     ]
    }
   ],
   "source": [
    "print(X.dtypes)\n",
    "print(y.dtypes)"
   ]
  },
  {
   "cell_type": "markdown",
   "id": "8ddab1a9",
   "metadata": {
    "papermill": {
     "duration": 0.008282,
     "end_time": "2025-10-29T15:40:24.412809",
     "exception": false,
     "start_time": "2025-10-29T15:40:24.404527",
     "status": "completed"
    },
    "tags": []
   },
   "source": [
    "### Summary of the code "
   ]
  },
  {
   "cell_type": "markdown",
   "id": "ba9d178a",
   "metadata": {
    "papermill": {
     "duration": 0.007651,
     "end_time": "2025-10-29T15:40:24.428239",
     "exception": false,
     "start_time": "2025-10-29T15:40:24.420588",
     "status": "completed"
    },
    "tags": []
   },
   "source": [
    "This notebook demonstrates the application of linear regressio techniques of the car prices as the main objective was to predict car prices based on various factors. As I begin the process, the first step I ddi is to import libraries to handle data, and loaded with dataset as inspected using commands sush as showing the data information. "
   ]
  }
 ],
 "metadata": {
  "kaggle": {
   "accelerator": "none",
   "dataSources": [
    {
     "datasetId": 8488204,
     "sourceId": 13378689,
     "sourceType": "datasetVersion"
    }
   ],
   "dockerImageVersionId": 31153,
   "isGpuEnabled": false,
   "isInternetEnabled": false,
   "language": "python",
   "sourceType": "notebook"
  },
  "kernelspec": {
   "display_name": "Python 3",
   "language": "python",
   "name": "python3"
  },
  "language_info": {
   "codemirror_mode": {
    "name": "ipython",
    "version": 3
   },
   "file_extension": ".py",
   "mimetype": "text/x-python",
   "name": "python",
   "nbconvert_exporter": "python",
   "pygments_lexer": "ipython3",
   "version": "3.11.13"
  },
  "papermill": {
   "default_parameters": {},
   "duration": 11.104011,
   "end_time": "2025-10-29T15:40:25.157196",
   "environment_variables": {},
   "exception": null,
   "input_path": "__notebook__.ipynb",
   "output_path": "__notebook__.ipynb",
   "parameters": {},
   "start_time": "2025-10-29T15:40:14.053185",
   "version": "2.6.0"
  }
 },
 "nbformat": 4,
 "nbformat_minor": 5
}
